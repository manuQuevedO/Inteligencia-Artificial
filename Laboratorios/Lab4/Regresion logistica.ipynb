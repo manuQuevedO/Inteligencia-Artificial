{
 "cells": [
  {
   "cell_type": "markdown",
   "metadata": {},
   "source": [
    "Para el laboratorio hizo uso del para entrenar el modelo de **Regresion Logistica** aplicado regularizacion y predecir si una planta esta enferma o no.\n"
   ]
  },
  {
   "cell_type": "markdown",
   "metadata": {},
   "source": [
    "Primero se importo todas las librerias necesarias:"
   ]
  },
  {
   "cell_type": "code",
   "execution_count": 1,
   "metadata": {},
   "outputs": [],
   "source": [
    "# utilizando la libreria os para manejos de directorios\n",
    "import os\n",
    "\n",
    "# Computacion vectorial y cientifica para python\n",
    "import numpy as np\n",
    "\n",
    "#importamos pandas para el manejo del dataset, y separarlos dentro de una matriz\n",
    "import pandas as pd\n",
    "\n",
    "#esta tabulate nos sirve para hacer tablas\n",
    "from tabulate import tabulate\n",
    "\n",
    "# Librerias para graficación (trazado de gráficos)\n",
    "from matplotlib import pyplot\n",
    "from mpl_toolkits.mplot3d import Axes3D  # -> Necesario para graficar superficies 3D\n",
    "\n",
    "#Para separa el 20% y 80% de los datos\n",
    "from sklearn.model_selection import train_test_split\n",
    "\n",
    "# llama a matplotlib a embeber graficas dentro de los cuadernillos\n",
    "%matplotlib inline"
   ]
  },
  {
   "cell_type": "markdown",
   "metadata": {},
   "source": [
    "## Carga de datos del dataset\n"
   ]
  },
  {
   "cell_type": "code",
   "execution_count": 23,
   "metadata": {},
   "outputs": [
    {
     "data": {
      "text/html": [
       "<div>\n",
       "<style scoped>\n",
       "    .dataframe tbody tr th:only-of-type {\n",
       "        vertical-align: middle;\n",
       "    }\n",
       "\n",
       "    .dataframe tbody tr th {\n",
       "        vertical-align: top;\n",
       "    }\n",
       "\n",
       "    .dataframe thead th {\n",
       "        text-align: right;\n",
       "    }\n",
       "</style>\n",
       "<table border=\"1\" class=\"dataframe\">\n",
       "  <thead>\n",
       "    <tr style=\"text-align: right;\">\n",
       "      <th></th>\n",
       "      <th>Soil_Moisture</th>\n",
       "      <th>Sunlight_Hours</th>\n",
       "      <th>Soil_pH</th>\n",
       "      <th>Ambient_Temperature</th>\n",
       "      <th>Fertilizer_Level</th>\n",
       "      <th>Plant_Type</th>\n",
       "      <th>Plant_Age</th>\n",
       "      <th>Plant_Height</th>\n",
       "      <th>Pesticide_Level</th>\n",
       "      <th>Air_Quality</th>\n",
       "      <th>Watering_Frequency</th>\n",
       "      <th>Days_Since_Last_Treatment</th>\n",
       "      <th>Plant_Health_Status</th>\n",
       "    </tr>\n",
       "  </thead>\n",
       "  <tbody>\n",
       "    <tr>\n",
       "      <th>0</th>\n",
       "      <td>52.928810</td>\n",
       "      <td>2.311578</td>\n",
       "      <td>4.755279</td>\n",
       "      <td>24.370716</td>\n",
       "      <td>46.337959</td>\n",
       "      <td>2</td>\n",
       "      <td>25</td>\n",
       "      <td>95.102245</td>\n",
       "      <td>13.665930</td>\n",
       "      <td>9.816439</td>\n",
       "      <td>1</td>\n",
       "      <td>29</td>\n",
       "      <td>0</td>\n",
       "    </tr>\n",
       "    <tr>\n",
       "      <th>1</th>\n",
       "      <td>62.911362</td>\n",
       "      <td>5.305338</td>\n",
       "      <td>3.699277</td>\n",
       "      <td>10.190008</td>\n",
       "      <td>35.571374</td>\n",
       "      <td>1</td>\n",
       "      <td>25</td>\n",
       "      <td>38.430746</td>\n",
       "      <td>7.459307</td>\n",
       "      <td>1.010680</td>\n",
       "      <td>4</td>\n",
       "      <td>7</td>\n",
       "      <td>0</td>\n",
       "    </tr>\n",
       "    <tr>\n",
       "      <th>2</th>\n",
       "      <td>56.165803</td>\n",
       "      <td>5.305340</td>\n",
       "      <td>5.018660</td>\n",
       "      <td>28.210874</td>\n",
       "      <td>12.322256</td>\n",
       "      <td>5</td>\n",
       "      <td>10</td>\n",
       "      <td>20.332484</td>\n",
       "      <td>0.818354</td>\n",
       "      <td>6.165716</td>\n",
       "      <td>4</td>\n",
       "      <td>27</td>\n",
       "      <td>0</td>\n",
       "    </tr>\n",
       "    <tr>\n",
       "      <th>3</th>\n",
       "      <td>52.692991</td>\n",
       "      <td>5.943108</td>\n",
       "      <td>3.722044</td>\n",
       "      <td>24.244173</td>\n",
       "      <td>22.939882</td>\n",
       "      <td>2</td>\n",
       "      <td>14</td>\n",
       "      <td>111.966643</td>\n",
       "      <td>9.790885</td>\n",
       "      <td>4.360190</td>\n",
       "      <td>3</td>\n",
       "      <td>15</td>\n",
       "      <td>1</td>\n",
       "    </tr>\n",
       "    <tr>\n",
       "      <th>4</th>\n",
       "      <td>45.419288</td>\n",
       "      <td>4.160941</td>\n",
       "      <td>8.617844</td>\n",
       "      <td>24.058742</td>\n",
       "      <td>17.994179</td>\n",
       "      <td>7</td>\n",
       "      <td>6</td>\n",
       "      <td>75.460983</td>\n",
       "      <td>9.360760</td>\n",
       "      <td>5.250466</td>\n",
       "      <td>4</td>\n",
       "      <td>25</td>\n",
       "      <td>0</td>\n",
       "    </tr>\n",
       "    <tr>\n",
       "      <th>...</th>\n",
       "      <td>...</td>\n",
       "      <td>...</td>\n",
       "      <td>...</td>\n",
       "      <td>...</td>\n",
       "      <td>...</td>\n",
       "      <td>...</td>\n",
       "      <td>...</td>\n",
       "      <td>...</td>\n",
       "      <td>...</td>\n",
       "      <td>...</td>\n",
       "      <td>...</td>\n",
       "      <td>...</td>\n",
       "      <td>...</td>\n",
       "    </tr>\n",
       "    <tr>\n",
       "      <th>23095</th>\n",
       "      <td>54.349447</td>\n",
       "      <td>6.410908</td>\n",
       "      <td>8.448130</td>\n",
       "      <td>31.278619</td>\n",
       "      <td>41.896572</td>\n",
       "      <td>6</td>\n",
       "      <td>36</td>\n",
       "      <td>31.499863</td>\n",
       "      <td>8.768719</td>\n",
       "      <td>2.934843</td>\n",
       "      <td>6</td>\n",
       "      <td>26</td>\n",
       "      <td>0</td>\n",
       "    </tr>\n",
       "    <tr>\n",
       "      <th>23096</th>\n",
       "      <td>35.310256</td>\n",
       "      <td>6.821160</td>\n",
       "      <td>8.157394</td>\n",
       "      <td>27.256309</td>\n",
       "      <td>2.608973</td>\n",
       "      <td>4</td>\n",
       "      <td>49</td>\n",
       "      <td>89.275538</td>\n",
       "      <td>0.432335</td>\n",
       "      <td>2.018008</td>\n",
       "      <td>3</td>\n",
       "      <td>8</td>\n",
       "      <td>0</td>\n",
       "    </tr>\n",
       "    <tr>\n",
       "      <th>23097</th>\n",
       "      <td>69.488893</td>\n",
       "      <td>3.746046</td>\n",
       "      <td>6.557157</td>\n",
       "      <td>23.962508</td>\n",
       "      <td>13.338819</td>\n",
       "      <td>6</td>\n",
       "      <td>46</td>\n",
       "      <td>16.158036</td>\n",
       "      <td>20.867251</td>\n",
       "      <td>8.800882</td>\n",
       "      <td>3</td>\n",
       "      <td>5</td>\n",
       "      <td>0</td>\n",
       "    </tr>\n",
       "    <tr>\n",
       "      <th>23098</th>\n",
       "      <td>38.764683</td>\n",
       "      <td>9.596214</td>\n",
       "      <td>7.175161</td>\n",
       "      <td>17.811348</td>\n",
       "      <td>18.542399</td>\n",
       "      <td>2</td>\n",
       "      <td>51</td>\n",
       "      <td>10.245917</td>\n",
       "      <td>11.608941</td>\n",
       "      <td>3.663833</td>\n",
       "      <td>6</td>\n",
       "      <td>1</td>\n",
       "      <td>0</td>\n",
       "    </tr>\n",
       "    <tr>\n",
       "      <th>23099</th>\n",
       "      <td>39.570303</td>\n",
       "      <td>9.875310</td>\n",
       "      <td>3.712752</td>\n",
       "      <td>16.637785</td>\n",
       "      <td>36.021108</td>\n",
       "      <td>9</td>\n",
       "      <td>38</td>\n",
       "      <td>46.771114</td>\n",
       "      <td>15.772499</td>\n",
       "      <td>4.350249</td>\n",
       "      <td>5</td>\n",
       "      <td>22</td>\n",
       "      <td>1</td>\n",
       "    </tr>\n",
       "  </tbody>\n",
       "</table>\n",
       "<p>23100 rows × 13 columns</p>\n",
       "</div>"
      ],
      "text/plain": [
       "       Soil_Moisture  Sunlight_Hours   Soil_pH  Ambient_Temperature  \\\n",
       "0          52.928810        2.311578  4.755279            24.370716   \n",
       "1          62.911362        5.305338  3.699277            10.190008   \n",
       "2          56.165803        5.305340  5.018660            28.210874   \n",
       "3          52.692991        5.943108  3.722044            24.244173   \n",
       "4          45.419288        4.160941  8.617844            24.058742   \n",
       "...              ...             ...       ...                  ...   \n",
       "23095      54.349447        6.410908  8.448130            31.278619   \n",
       "23096      35.310256        6.821160  8.157394            27.256309   \n",
       "23097      69.488893        3.746046  6.557157            23.962508   \n",
       "23098      38.764683        9.596214  7.175161            17.811348   \n",
       "23099      39.570303        9.875310  3.712752            16.637785   \n",
       "\n",
       "       Fertilizer_Level  Plant_Type  Plant_Age  Plant_Height  Pesticide_Level  \\\n",
       "0             46.337959           2         25     95.102245        13.665930   \n",
       "1             35.571374           1         25     38.430746         7.459307   \n",
       "2             12.322256           5         10     20.332484         0.818354   \n",
       "3             22.939882           2         14    111.966643         9.790885   \n",
       "4             17.994179           7          6     75.460983         9.360760   \n",
       "...                 ...         ...        ...           ...              ...   \n",
       "23095         41.896572           6         36     31.499863         8.768719   \n",
       "23096          2.608973           4         49     89.275538         0.432335   \n",
       "23097         13.338819           6         46     16.158036        20.867251   \n",
       "23098         18.542399           2         51     10.245917        11.608941   \n",
       "23099         36.021108           9         38     46.771114        15.772499   \n",
       "\n",
       "       Air_Quality  Watering_Frequency  Days_Since_Last_Treatment  \\\n",
       "0         9.816439                   1                         29   \n",
       "1         1.010680                   4                          7   \n",
       "2         6.165716                   4                         27   \n",
       "3         4.360190                   3                         15   \n",
       "4         5.250466                   4                         25   \n",
       "...            ...                 ...                        ...   \n",
       "23095     2.934843                   6                         26   \n",
       "23096     2.018008                   3                          8   \n",
       "23097     8.800882                   3                          5   \n",
       "23098     3.663833                   6                          1   \n",
       "23099     4.350249                   5                         22   \n",
       "\n",
       "       Plant_Health_Status  \n",
       "0                        0  \n",
       "1                        0  \n",
       "2                        0  \n",
       "3                        1  \n",
       "4                        0  \n",
       "...                    ...  \n",
       "23095                    0  \n",
       "23096                    0  \n",
       "23097                    0  \n",
       "23098                    0  \n",
       "23099                    1  \n",
       "\n",
       "[23100 rows x 13 columns]"
      ]
     },
     "execution_count": 23,
     "metadata": {},
     "output_type": "execute_result"
    }
   ],
   "source": [
    "#cargamos el dataset a un dataframe de pandas\n",
    "df = pd.read_csv('dataset_plants2.csv', delimiter=',')\n",
    "\n",
    "#mostramos el dataset\n",
    "df"
   ]
  },
  {
   "cell_type": "markdown",
   "metadata": {},
   "source": [
    "## Analisis del dataset\n",
    "Hacemos un analisis del dataset mostrando su informacion usando la funcion de `info()`:"
   ]
  },
  {
   "cell_type": "code",
   "execution_count": 24,
   "metadata": {},
   "outputs": [
    {
     "name": "stdout",
     "output_type": "stream",
     "text": [
      "<class 'pandas.core.frame.DataFrame'>\n",
      "RangeIndex: 23100 entries, 0 to 23099\n",
      "Data columns (total 13 columns):\n",
      " #   Column                     Non-Null Count  Dtype  \n",
      "---  ------                     --------------  -----  \n",
      " 0   Soil_Moisture              23100 non-null  float64\n",
      " 1   Sunlight_Hours             23100 non-null  float64\n",
      " 2   Soil_pH                    23100 non-null  float64\n",
      " 3   Ambient_Temperature        23100 non-null  float64\n",
      " 4   Fertilizer_Level           23100 non-null  float64\n",
      " 5   Plant_Type                 23100 non-null  int64  \n",
      " 6   Plant_Age                  23100 non-null  int64  \n",
      " 7   Plant_Height               23100 non-null  float64\n",
      " 8   Pesticide_Level            23100 non-null  float64\n",
      " 9   Air_Quality                23100 non-null  float64\n",
      " 10  Watering_Frequency         23100 non-null  int64  \n",
      " 11  Days_Since_Last_Treatment  23100 non-null  int64  \n",
      " 12  Plant_Health_Status        23100 non-null  int64  \n",
      "dtypes: float64(8), int64(5)\n",
      "memory usage: 2.3 MB\n"
     ]
    }
   ],
   "source": [
    "df.info()"
   ]
  },
  {
   "cell_type": "markdown",
   "metadata": {},
   "source": [
    "## Separacion del 80% de los datos para entrenamiento y 20% para pruebas\n",
    "\n",
    "Haremos uso de la libreria `sklearn` haciendo uso de su funcion `train_test_split()`, donde recibe como parametros:\n",
    "\n",
    "`Arrays o matrices de características (X): `Estos son los datos que se utilizarán para hacer predicciones. Por lo general, son las variables independientes o características del conjunto de datos.\n",
    "\n",
    "`test_size (opcional):` Este parámetro especifica el tamaño del conjunto de prueba. Puede ser un número decimal entre 0 y 1, que representa el porcentaje del conjunto de datos que se asignará al conjunto de prueba, o puede ser un entero que representa el número absoluto de muestras en el conjunto de prueba. Por ejemplo, si test_size=0.2, se asignará el 20% del conjunto de datos al conjunto de prueba.\n",
    "\n",
    "`train_size (opcional):` Este parámetro especifica el tamaño del conjunto de entrenamiento. Al igual que test_size, puede ser un número decimal entre 0 y 1 o un entero que representa el número absoluto de muestras en el conjunto de entrenamiento. Si no se proporciona, se calcula automáticamente como 1 - test_size.\n",
    "\n",
    "`random_state (opcional):` Este parámetro permite establecer una semilla para la generación de números pseudoaleatorios. Esto garantiza que la división de los datos sea reproducible. Si se establece en un número entero, el resultado será el mismo cada vez que se ejecute el código."
   ]
  },
  {
   "cell_type": "code",
   "execution_count": 25,
   "metadata": {},
   "outputs": [
    {
     "name": "stdout",
     "output_type": "stream",
     "text": [
      "Index(['Soil_Moisture,Sunlight_Hours,Soil_pH,Ambient_Temperature,Fertilizer_Level,Plant_Type,Plant_Age,Plant_Height,Pesticide_Level,Air_Quality,Watering_Frequency,Days_Since_Last_Treatment,Plant_Health_Status'], dtype='object')\n"
     ]
    }
   ],
   "source": [
    "print(test_dataset.columns)\n"
   ]
  },
  {
   "cell_type": "code",
   "execution_count": 22,
   "metadata": {},
   "outputs": [
    {
     "name": "stdout",
     "output_type": "stream",
     "text": [
      "Error: \"['Plant_Health_Status'] not found in axis\"\n",
      "Index(['Soil_Moisture,Sunlight_Hours,Soil_pH,Ambient_Temperature,Fertilizer_Level,Plant_Type,Plant_Age,Plant_Height,Pesticide_Level,Air_Quality,Watering_Frequency,Days_Since_Last_Treatment,Plant_Health_Status'], dtype='object')\n"
     ]
    }
   ],
   "source": [
    "try:\n",
    "    X_test = test_dataset.drop(['Plant_Health_Status'], axis=1).values\n",
    "except KeyError as e:\n",
    "    print(f\"Error: {e}\")\n",
    "    print(test_dataset.columns)  # Esto mostrará las columnas actuales para diagnóstico\n"
   ]
  },
  {
   "cell_type": "code",
   "execution_count": 26,
   "metadata": {},
   "outputs": [
    {
     "name": "stdout",
     "output_type": "stream",
     "text": [
      " \n",
      "El 80% de ejemplos para entrenamiento son la cantidad de: 18480 de ejemplos\n",
      "El 20% de ejemplos para pruebas son la cantidad de: 4620 de ejemplos\n",
      "La cantidad total de ejemplos es de: 23100 de ejemplos\n"
     ]
    }
   ],
   "source": [
    "# usamos la libreria train_test_split que nos ayudara a separar el 80% y 20% de los datos.\n",
    "train_dataset, test_dataset = train_test_split(df, test_size=0.2, random_state=42)\n",
    "\n",
    "#Separamos en X_test los datos, pero dropeando nuestra y que seria 'Plant_Health_Status'\n",
    "X_test = test_dataset.drop(['Plant_Health_Status'], axis=1).values\n",
    "#Separamos en y_test los datos, pero solo cargando la columna de 'Plant_Health_Status', ya que esa sera nuestra y\n",
    "y_test = test_dataset['Plant_Health_Status'].values\n",
    "m_test = len(y_test)\n",
    "\n",
    "# tomamos train_dataset, seleccionamos las columnas para X_train y la columna 'Plant_Health_Status' para y_train\n",
    "X_train = train_dataset.drop(['Plant_Health_Status'], axis=1).values\n",
    "y_train = train_dataset['Plant_Health_Status'].values\n",
    "m_train = len(y_train)\n",
    "\n",
    "\n",
    "#Imprimimos algunos datos:\n",
    "\n",
    "\n",
    "print(\" \")\n",
    "print('El 80% de ejemplos para entrenamiento son la cantidad de: {:.0f} de ejemplos'.format( len(train_dataset)))\n",
    "print('El 20% de ejemplos para pruebas son la cantidad de: {:.0f} de ejemplos'.format( len(test_dataset)))\n",
    "print('La cantidad total de ejemplos es de: {:.0f} de ejemplos'.format( len(df)))"
   ]
  },
  {
   "cell_type": "markdown",
   "metadata": {},
   "source": [
    "## Funcion para la Normalización de caracteristicas\n",
    "\n",
    "Al visualizar los datos se puede observar que las caracteristicas tienen diferentes magnitudes, por lo cual se debe transformar cada valor en una escala de valores similares, esto con el fin de que el descenso por el gradiente pueda converger mas rapidamente. En este caso\n",
    "\n",
    "Hacemos el uso de la siguiente funcion para normalizar los datos:"
   ]
  },
  {
   "cell_type": "code",
   "execution_count": 27,
   "metadata": {},
   "outputs": [],
   "source": [
    "def  featureNormalize(X):\n",
    "    X_norm = X.copy()\n",
    "\n",
    "    #creamos un array de ceros con una longitud igual al número de columnas en el array X. La variable mu y sigma se inicializa como este array de ceros.\n",
    "    mu = np.zeros(X.shape[1])\n",
    "    sigma = np.zeros(X.shape[1])\n",
    "\n",
    "    #Creamos el promedio de cada filaa de X\n",
    "    #media de cada columna\n",
    "    mu = np.mean(X, axis = 0)\n",
    "    \n",
    "    #desviacion estandar de cada fila de X\n",
    "    sigma = np.std(X, axis = 0)\n",
    "    \n",
    "    sigma[sigma == 0] = 1\n",
    "    \n",
    "    #normalizamos los datos con la siguiente formula\n",
    "    X_norm = (X - mu) / sigma\n",
    "\n",
    "    return X_norm, mu, sigma"
   ]
  },
  {
   "cell_type": "markdown",
   "metadata": {},
   "source": [
    "## Funcion para el calculo de la sigmoide\n",
    "\n",
    "También conocida como la función logística, es una función matemática que toma cualquier número real como entrada y devuelve un valor en el rango de 0 a 1. Donde nuestra **Z** es nuestra hipotesis."
   ]
  },
  {
   "cell_type": "code",
   "execution_count": 28,
   "metadata": {},
   "outputs": [],
   "source": [
    "def sigmoid(z):\n",
    "    # Calcula la sigmoide de una entrada z\n",
    "    # convierte la intrada a un arreglo numpy\n",
    "    z = np.array(z)\n",
    "\n",
    "    g = np.zeros(z.shape)\n",
    "\n",
    "    g = 1 / (1 + np.exp(-z))\n",
    "\n",
    "    return g"
   ]
  },
  {
   "cell_type": "markdown",
   "metadata": {},
   "source": [
    "## Funcion de calculo de costo con regularizacion\n",
    "\n",
    "Para la regularizacion se implemento la suma de `+(lambda_ / (2 * m)) * np.sum(np.square(theta[1:]))` a nuestra ecuacion de costo"
   ]
  },
  {
   "cell_type": "code",
   "execution_count": 29,
   "metadata": {},
   "outputs": [],
   "source": [
    "def calcularCostoCR(theta, X, y, lambda_):\n",
    "    # Inicializar algunos valores utiles\n",
    "    m = y.size  # numero de ejemplos de entrenamiento\n",
    "\n",
    "    J = 0\n",
    "    \n",
    "    # temp = theta.copy()\n",
    "    # temp[0] = 0\n",
    "    \n",
    "    #hacemos el uso de la funcion sigmoid\n",
    "    h = sigmoid(X.dot(theta.T))\n",
    "    \n",
    "    J = (1 / m) * np.sum(-y.dot(np.log(h)) - (1 - y).dot(np.log(1 - h)))\n",
    "\n",
    "    # Calculamos el término de regularización (sin incluir el primer término de theta)\n",
    "    regularization_term = (lambda_ / (2 * m)) * np.sum(np.square(theta[1:]))\n",
    "\n",
    "    # Sumamos el término de regularización al costo total\n",
    "    J += regularization_term\n",
    "\n",
    "    return J"
   ]
  },
  {
   "cell_type": "markdown",
   "metadata": {},
   "source": [
    "### Funcion de descenso por el gradiente con regularizacion\n",
    "\n",
    "\n",
    "Tambien introducimos el parametro lambda_ para aplicar regularizacion.\n",
    "\n",
    "Para el calculo de nuestras thetas sera\n",
    "\n",
    "para Theta 0 sera `theta[0] -= alpha * gradient[0]`.\n",
    "\n",
    "Para las demas thetas sera `theta[1:] -= alpha * (gradient[1:]+ regularization_term)`\n",
    "\n",
    "donde nuestra gradiente es `gradient = (1 / m) * X.T.dot(h - y)`"
   ]
  },
  {
   "cell_type": "code",
   "execution_count": 30,
   "metadata": {},
   "outputs": [],
   "source": [
    "def descensoGradienteCR(theta, X, y, alpha, lambda_, num_iters):\n",
    "    # Inicializa algunos valores\n",
    "    m = y.shape[0] # numero de ejemplos de entrenamiento\n",
    "\n",
    "    # realiza una copia de theta, el cual será acutalizada por el descenso por el gradiente\n",
    "    theta = theta.copy()\n",
    "    J_history = []\n",
    "\n",
    "    for i in range(num_iters):\n",
    "        h = sigmoid(X.dot(theta.T))\n",
    "        \n",
    "        # Calcula el gradiente descendente sin regularización\n",
    "        gradient = (1 / m) * X.T.dot(h - y)\n",
    "        \n",
    "        # Calcula el término de regularización (excepto para el término de sesgo theta[0])\n",
    "        regularization_term = (lambda_ / m) * theta[1:]\n",
    "        \n",
    "        # theta[0] -= alpha * (1 / m) * np.sum(h - y)\n",
    "        theta[0] -= alpha * gradient[0]\n",
    "        theta[1:] -= alpha * (gradient[1:]+ regularization_term)\n",
    "\n",
    "        # Calcula y guarda el costo en cada iteración\n",
    "        J_history.append(calcularCostoCR(theta, X, y, lambda_))\n",
    "        \n",
    "    return theta, J_history"
   ]
  },
  {
   "cell_type": "markdown",
   "metadata": {},
   "source": [
    "## Funcion de calculo de costo sin regularizacion"
   ]
  },
  {
   "cell_type": "code",
   "execution_count": 31,
   "metadata": {},
   "outputs": [],
   "source": [
    "def calcularCostoSR(theta, X, y):\n",
    "    # Inicializar algunos valores utiles\n",
    "    m = y.size  # numero de ejemplos de entrenamiento\n",
    "\n",
    "    J = 0\n",
    "    \n",
    "    #hacemos el uso de la funcion sigmoid\n",
    "    h = sigmoid(X.dot(theta.T))\n",
    "    J = (1 / m) * np.sum(-y.dot(np.log(h)) - (1 - y).dot(np.log(1 - h)))\n",
    "\n",
    "    return J"
   ]
  },
  {
   "cell_type": "markdown",
   "metadata": {},
   "source": [
    "### Funcion de descenso por el gradiente sin regularizacion"
   ]
  },
  {
   "cell_type": "code",
   "execution_count": 32,
   "metadata": {},
   "outputs": [],
   "source": [
    "def descensoGradienteSR(theta, X, y, alpha, num_iters):\n",
    "    # Inicializa algunos valores\n",
    "    m = y.shape[0] # numero de ejemplos de entrenamiento\n",
    "\n",
    "    # realiza una copia de theta, el cual será acutalizada por el descenso por el gradiente\n",
    "    theta = theta.copy()\n",
    "    J_history = []\n",
    "\n",
    "    for i in range(num_iters):\n",
    "        h = sigmoid(X.dot(theta.T))\n",
    "        theta = theta - (alpha / m) * (h - y).dot(X)\n",
    "\n",
    "        J_history.append(calcularCostoSR(theta, X, y))\n",
    "    return theta, J_history"
   ]
  },
  {
   "cell_type": "markdown",
   "metadata": {},
   "source": [
    "## 1. Usando regularizacion\n",
    "\n",
    "La regularización es una técnica utilizada en el aprendizaje automático para prevenir el **sobreajuste (overfitting)** de un modelo a los datos de entrenamiento.\n",
    "\n",
    "El sobreajuste ocurre cuando un modelo se ajusta demasiado bien a los datos de entrenamiento y captura el ruido o las fluctuaciones aleatorias en los datos en lugar de aprender la verdadera relación subyacente entre las características y la variable objetivo. Esto puede resultar en un rendimiento deficiente del modelo cuando se enfrenta a nuevos datos que no formaban parte del conjunto de entrenamiento."
   ]
  },
  {
   "cell_type": "markdown",
   "metadata": {},
   "source": [
    "### 1.1 Regresion Logistica\n",
    "\n",
    "Carga de los datos para la regresion logistica:"
   ]
  },
  {
   "cell_type": "code",
   "execution_count": 33,
   "metadata": {},
   "outputs": [
    {
     "name": "stdout",
     "output_type": "stream",
     "text": [
      "  X[:,0] X[:, 1]   X[:, 2]   X[:, 3] X[:, 4] X[:, 5] X[:, 6] X[:, 7]X[:, 8]   X[:, 9]  X[:, 10]         Y\n",
      "--------------------------------------------------------------------------------------------------------------\n",
      "      37       5         8        24      15       8      28      15      11        10       3           1\n",
      "      70       6         3        19       6       6      44     126      12         7       1           1\n",
      "      39      10         5        22      35       1       4     140      26         3       3           1\n",
      "      46      10         6        12      31       5      15     103      28         3       3           1\n",
      "      24       2         7        24       2       1      22     136      28         5       6           1\n",
      "      61       5         7        20      31       1      38      23      20         2       6           1\n",
      "      28       7         8        16       3       7      35      82      19         3       6           1\n",
      "      23       7         7        17      36       2      33     129      18         5       4           1\n",
      "      64       7         7        26       5       8      31      18      29         7       3           0\n",
      "      20       7         4        24      26       8      31      74      14         6       5           0\n",
      " \n",
      "El 80% de ejemplos para entrenamiento son la cantidad de: 18480 de ejemplos\n",
      "El 20% de ejemplos para pruebas son la cantidad de: 4620 de ejemplos\n",
      "La cantidad total de ejemplos es de: 23100 de ejemplos\n"
     ]
    }
   ],
   "source": [
    "#hacemos una copia de y_train y y_test para usarlo en la regresion lineal multivariable\n",
    "\n",
    "#estos datos seran usados para el entrenamiento\n",
    "X_testCR = X_test.copy()\n",
    "y_testCR = y_test.copy()\n",
    "m_test_CR = len(y_testCR)\n",
    "\n",
    "#estos datos seran usados para el test\n",
    "X_trainCR = X_train.copy()\n",
    "y_trainCR = y_train.copy()\n",
    "m_train_CR = len(y_trainCR)\n",
    "\n",
    "#Imprimimos algunos datos:\n",
    "# imprimir todos las X de datos solo 10\n",
    "print('{:>8s}{:>8s}{:>10s}{:>10s}{:>8s}{:>8s}{:>8s}{:>8s}{:>6s}{:>10s}{:>10s}{:>10s}'.format(\n",
    "    'X[:,0]', 'X[:, 1]', 'X[:, 2]', 'X[:, 3]', 'X[:, 4]', 'X[:, 5]', 'X[:, 6]', 'X[:, 7]', 'X[:, 8]', 'X[:, 9]', 'X[:, 10]', 'Y'\n",
    "))\n",
    "print('-' * 110)\n",
    "\n",
    "for i in range(10):\n",
    "    print('{:8.0f}{:8.0f}{:10.0f}{:10.0f}{:8.0f}{:8.0f}{:8.0f}{:8.0f}{:8.0f}{:10.0f}{:8.0f}{:12.0f}'.format(\n",
    "        X_trainCR[i, 0], \n",
    "        X_trainCR[i, 1],\n",
    "        X_trainCR[i, 2],\n",
    "        X_trainCR[i, 3], \n",
    "        X_trainCR[i, 4], \n",
    "        X_trainCR[i, 5],\n",
    "        X_trainCR[i, 6], \n",
    "        X_trainCR[i, 7], \n",
    "        X_trainCR[i, 8], \n",
    "        X_trainCR[i, 9], \n",
    "        X_trainCR[i, 10], \n",
    "        y_trainCR[i]\n",
    "    ))\n",
    "\n",
    "#mostramos la cantidad de ejemplos\n",
    "print(\" \")\n",
    "print('El 80% de ejemplos para entrenamiento son la cantidad de: {:.0f} de ejemplos'.format( len(train_dataset)))\n",
    "print('El 20% de ejemplos para pruebas son la cantidad de: {:.0f} de ejemplos'.format( len(test_dataset)))\n",
    "print('La cantidad total de ejemplos es de: {:.0f} de ejemplos'.format( len(df)))"
   ]
  },
  {
   "cell_type": "markdown",
   "metadata": {},
   "source": [
    "#### 1.1.1 Normalizacion de las caracteristicas\n",
    "\n",
    "Se hace uso de la funcion de `featureNormalize(X) ` donde se recibe un parametro de tipo matriz para normalizar cada dato dentro de ella, retornandome la **matriz normalizda**, **sigma(desviacion estandar)**, y mi **mu(media)**.\n",
    "\n",
    "Almacenando los datos normalizados en **X_norm** usando la funcion **featureNormaliza()**, normalizando los datos de X_train"
   ]
  },
  {
   "cell_type": "code",
   "execution_count": 34,
   "metadata": {},
   "outputs": [
    {
     "name": "stdout",
     "output_type": "stream",
     "text": [
      "  X[:,0] X[:, 1]   X[:, 2]   X[:, 3] X[:, 4] X[:, 5] X[:, 6] X[:, 7]X[:, 8]   X[:, 9]  X[:, 10]\n",
      "--------------------------------------------------------------------------------------------------------------\n",
      "  -0.731  -0.580     1.263     0.176  -0.727   1.152   0.144  -1.618  -0.422     1.725  -0.282\n",
      "   1.178   0.055    -1.649    -0.493  -1.319   0.375   1.229   1.155  -0.416     0.494  -1.454\n",
      "  -0.603   1.727    -0.841    -0.060   0.642  -1.567  -1.485   1.505   1.258    -1.024  -0.282\n",
      "  -0.256   1.639    -0.257    -1.428   0.419  -0.013  -0.738   0.575   1.466    -0.862  -0.282\n",
      "  -1.517  -1.509     0.861     0.223  -1.570  -1.567  -0.263   1.391   1.453    -0.180   1.475\n",
      "   0.659  -0.352     0.363    -0.278   0.396  -1.567   0.822  -1.429   0.608    -1.417   1.475\n",
      "  -1.267   0.638     0.870    -0.841  -1.552   0.763   0.619   0.053   0.449    -0.983   1.475\n",
      "  -1.535   0.235     0.666    -0.792   0.708  -1.178   0.483   1.223   0.361    -0.089   0.304\n",
      "   0.833   0.393     0.350     0.464  -1.368   1.152   0.347  -1.542   1.583     0.656  -0.282\n",
      "  -1.694   0.646    -1.071     0.200   0.018   1.152   0.347  -0.160  -0.168     0.162   0.890\n"
     ]
    }
   ],
   "source": [
    "X_norm_CR, mu_CR, sigma_CR= featureNormalize(X_trainCR)\n",
    "\n",
    "# imprimir todos las X_norm de datos solo 10\n",
    "print('{:>8s}{:>8s}{:>10s}{:>10s}{:>8s}{:>8s}{:>8s}{:>8s}{:>6s}{:>10s}{:>10s}'.format(\n",
    "    'X[:,0]', 'X[:, 1]', 'X[:, 2]', 'X[:, 3]', 'X[:, 4]', 'X[:, 5]', 'X[:, 6]', 'X[:, 7]', 'X[:, 8]', 'X[:, 9]', 'X[:, 10]'\n",
    "))\n",
    "print('-' * 110)\n",
    "\n",
    "for i in range(10):\n",
    "    print('{:8.3f}{:8.3f}{:10.3f}{:10.3f}{:8.3f}{:8.3f}{:8.3f}{:8.3f}{:8.3f}{:10.3f}{:8.3f}'.format(\n",
    "        X_norm_CR[i, 0], \n",
    "        X_norm_CR[i, 1],\n",
    "        X_norm_CR[i, 2], \n",
    "        X_norm_CR[i, 3], \n",
    "        X_norm_CR[i, 4], \n",
    "        X_norm_CR[i, 5],\n",
    "        X_norm_CR[i, 6],\n",
    "        X_norm_CR[i, 7], \n",
    "        X_norm_CR[i, 8], \n",
    "        X_norm_CR[i, 9], \n",
    "        X_norm_CR[i, 10]\n",
    "    ))"
   ]
  },
  {
   "cell_type": "markdown",
   "metadata": {},
   "source": [
    "#### 1.1.2 Agregamos la columna de unos a nuestra matriz"
   ]
  },
  {
   "cell_type": "code",
   "execution_count": 35,
   "metadata": {},
   "outputs": [
    {
     "name": "stdout",
     "output_type": "stream",
     "text": [
      "  X[:,0] X[:, 1]   X[:, 2]   X[:, 3] X[:, 4] X[:, 5] X[:, 6] X[:, 7]X[:, 8]   X[:, 9]  X[:, 10]  X[:, 11]\n",
      "----------------------------------------------------------------------------------------------------------------------------------\n",
      "   1.000  -0.731    -0.580     1.263   0.176  -0.727   1.152   0.144  -1.618    -0.422   1.725  -0.282\n",
      "   1.000   1.178     0.055    -1.649  -0.493  -1.319   0.375   1.229   1.155    -0.416   0.494  -1.454\n",
      "   1.000  -0.603     1.727    -0.841  -0.060   0.642  -1.567  -1.485   1.505     1.258  -1.024  -0.282\n",
      "   1.000  -0.256     1.639    -0.257  -1.428   0.419  -0.013  -0.738   0.575     1.466  -0.862  -0.282\n",
      "   1.000  -1.517    -1.509     0.861   0.223  -1.570  -1.567  -0.263   1.391     1.453  -0.180   1.475\n",
      "   1.000   0.659    -0.352     0.363  -0.278   0.396  -1.567   0.822  -1.429     0.608  -1.417   1.475\n",
      "   1.000  -1.267     0.638     0.870  -0.841  -1.552   0.763   0.619   0.053     0.449  -0.983   1.475\n",
      "   1.000  -1.535     0.235     0.666  -0.792   0.708  -1.178   0.483   1.223     0.361  -0.089   0.304\n",
      "   1.000   0.833     0.393     0.350   0.464  -1.368   1.152   0.347  -1.542     1.583   0.656  -0.282\n",
      "   1.000  -1.694     0.646    -1.071   0.200   0.018   1.152   0.347  -0.160    -0.168   0.162   0.890\n"
     ]
    }
   ],
   "source": [
    "X_ready_CR = np.concatenate([np.ones((m_train_CR, 1)), X_norm_CR], axis=1)\n",
    "\n",
    "# print(len(X_ready[0]))\n",
    "\n",
    "# imprimir todos las X_norm de datos solo 10\n",
    "print('{:>8s}{:>8s}{:>10s}{:>10s}{:>8s}{:>8s}{:>8s}{:>8s}{:>6s}{:>10s}{:>10s}{:>10s}'.format(\n",
    "    'X[:,0]', 'X[:, 1]', 'X[:, 2]', 'X[:, 3]', 'X[:, 4]', 'X[:, 5]', 'X[:, 6]', 'X[:, 7]', 'X[:, 8]', 'X[:, 9]', 'X[:, 10]', 'X[:, 11]'\n",
    "))\n",
    "print('-' * 130)\n",
    "\n",
    "for i in range(10):\n",
    "    print('{:8.3f}{:8.3f}{:10.3f}{:10.3f}{:8.3f}{:8.3f}{:8.3f}{:8.3f}{:8.3f}{:10.3f}{:8.3f}{:8.3f}'.format(\n",
    "        X_ready_CR[i, 0],\n",
    "        X_ready_CR[i, 1], \n",
    "        X_ready_CR[i, 2], \n",
    "        X_ready_CR[i, 3],\n",
    "        X_ready_CR[i, 4], \n",
    "        X_ready_CR[i, 5], \n",
    "        X_ready_CR[i, 6], \n",
    "        X_ready_CR[i, 7], \n",
    "        X_ready_CR[i, 8], \n",
    "        X_ready_CR[i, 9], \n",
    "        X_ready_CR[i, 10], \n",
    "        X_ready_CR[i, 11]\n",
    "    ))\n"
   ]
  },
  {
   "cell_type": "markdown",
   "metadata": {},
   "source": [
    "#### 1.1.3 Descenso por el gradiente\n",
    "\n",
    "Al igual que regresion lineal se aplicara el descenso por la gradiente, con la diferencia que aqui se hara el uso de la funcion **sigmoid()**:"
   ]
  },
  {
   "cell_type": "markdown",
   "metadata": {},
   "source": [
    "##### 1.1.3.1 Cálculo del costo $J(\\theta)$\n",
    "\n",
    "hacemos uso de la funcion def `calcularCosto(X, y, theta, lambda_)`;"
   ]
  },
  {
   "cell_type": "markdown",
   "metadata": {},
   "source": [
    "Ejemplo de funcionamiento de la funcion computeCoste con dos valores diferentes de $\\theta$."
   ]
  },
  {
   "cell_type": "code",
   "execution_count": 37,
   "metadata": {},
   "outputs": [
    {
     "name": "stdout",
     "output_type": "stream",
     "text": [
      "13\n",
      "########################################################################################################\n",
      "con theta:[0.2 3.  0.2 0.1 3.  0.2 1.1 2.  0.7 0.8 5.8 0.9 1.3] se obtiene un costo de: 4.867096838479704\n",
      "########################################################################################################\n",
      "con theta:[0.1 2.  0.5 0.2 8.  0.7 1.3 8.  1.7 0.7 7.1 7.2 4.5] se obtiene un costo de: 4.867096838479704\n"
     ]
    }
   ],
   "source": [
    "theta_CR=np.array([0.2, 3.0, 0.2,0.1, 3.0, 0.2,1.1, 2.0, 0.7,0.8, 5.8, 0.9, 1.3])\n",
    "theta_CR1=np.array([0.1, 2.0, 0.5,0.2, 8.0, 0.7,1.3, 8.0, 1.7,0.7, 7.1, 7.2, 4.5])\n",
    "\n",
    "lambda_ = 1000\n",
    "print(theta_CR.shape[0])\n",
    "print(f\"########################################################################################################\")\n",
    "print(f\"con theta:{ theta_CR } se obtiene un costo de: {calcularCostoCR(theta_CR, X_ready_CR, y_trainCR, lambda_)}\")\n",
    "print(f\"########################################################################################################\")\n",
    "print(f\"con theta:{ theta_CR1 } se obtiene un costo de: {calcularCostoCR(theta_CR ,X_ready_CR, y_trainCR, lambda_)}\")"
   ]
  },
  {
   "cell_type": "markdown",
   "metadata": {},
   "source": [
    "##### 1.1.3.2Descenso por el gradiente\n",
    "\n",
    "Hacemos uso de la funcion para hacer el calculo del descenso por el gradiente y asi encontrar nuestras **Thetas**, se hizo la modificacion para que la funcion ahora reciba el parametro de ``lamda_``"
   ]
  },
  {
   "cell_type": "markdown",
   "metadata": {},
   "source": [
    "Se inicializan los parametros $\\theta$ con 0 y la taza de aprendizaje $\\alpha$ con 0.00009."
   ]
  },
  {
   "cell_type": "code",
   "execution_count": 38,
   "metadata": {},
   "outputs": [
    {
     "name": "stdout",
     "output_type": "stream",
     "text": [
      "########################################################################################################\n",
      "Los valores de theta calculados son:\n",
      "theta 1: -0.0087816980914305\n",
      "theta 2: -0.0008470941538557115\n",
      "theta 3: -0.010826529985183433\n",
      "theta 4: 0.0004455250977259393\n",
      "theta 5: 0.010088684754535986\n",
      "theta 6: 0.003067494627844552\n",
      "theta 7: 0.001781924226849901\n",
      "theta 8: 0.01752676829321484\n",
      "theta 9: -0.01001502418285656\n",
      "theta 10: 0.002111159583997897\n",
      "theta 11: 0.012481716924160344\n",
      "theta 12: 0.01289247908535001\n",
      "theta 13: 0.0014561490496430435\n",
      "########################################################################################################\n",
      "con un costo de: 0.6929844571976718 \n"
     ]
    }
   ],
   "source": [
    "#creamos un theta con 19 columnas de ceros\n",
    "theta_CR = np.zeros(len(X_ready_CR[0]))\n",
    "\n",
    "#numero de iteraciones sera 900 y un alpha 0.009\n",
    "num_ite_CR = 15000\n",
    "alpha_CR = 0.0009\n",
    "lambda_CR = 1000\n",
    "\n",
    "theta_CR, J_historico_CR = descensoGradienteCR(theta_CR, X_ready_CR, y_trainCR, alpha_CR, lambda_CR, num_ite_CR)\n",
    "\n",
    "print(\"########################################################################################################\")\n",
    "print(\"Los valores de theta calculados son:\")\n",
    "i = 0\n",
    "for tht in theta_CR:\n",
    "    i += 1\n",
    "    print(f\"theta {i}: {tht}\")\n",
    "\n",
    "\n",
    "print(f\"########################################################################################################\")\n",
    "#mostramos el ultimo costo, este seria el mejor costo\n",
    "print(f\"con un costo de: { J_historico_CR[-1]} \")"
   ]
  },
  {
   "cell_type": "markdown",
   "metadata": {},
   "source": [
    "#### 1.1.4 Grafica de la convergencia del costo\n",
    "graficamos el costo"
   ]
  },
  {
   "cell_type": "code",
   "execution_count": 39,
   "metadata": {},
   "outputs": [
    {
     "data": {
      "text/plain": [
       "Text(0, 0.5, 'Costo J')"
      ]
     },
     "execution_count": 39,
     "metadata": {},
     "output_type": "execute_result"
    },
    {
     "data": {
      "image/png": "[encoded data removed]",
      "text/plain": [
       "<Figure size 640x480 with 1 Axes>"
      ]
     },
     "metadata": {},
     "output_type": "display_data"
    }
   ],
   "source": [
    "pyplot.plot(np.arange(len(J_historico_CR)), J_historico_CR, lw=2)\n",
    "pyplot.title(\"Grafica de la convergencia del costo\")\n",
    "pyplot.xlabel('Numero de iteraciones')\n",
    "pyplot.ylabel('Costo J')"
   ]
  },
  {
   "cell_type": "markdown",
   "metadata": {},
   "source": [
    "Haciendo la prueba con un ejemplo"
   ]
  },
  {
   "cell_type": "code",
   "execution_count": 41,
   "metadata": {},
   "outputs": [
    {
     "name": "stdout",
     "output_type": "stream",
     "text": [
      "Una planta con las caracteristicas: [20, 5.5, 5.7, 15.5, 53, 2, 18, 47.4, 4.5, 8, 3, 19, 1] \n",
      "Tiene una probabilidad de estar enferma de: 50.56835884958228 %\n",
      "Con valores de theta: [-0.0087817  -0.00084709 -0.01082653  0.00044553  0.01008868  0.00306749\n",
      "  0.00178192  0.01752677 -0.01001502  0.00211116  0.01248172  0.01289248\n",
      "  0.00145615]\n"
     ]
    }
   ],
   "source": [
    "X_array_CR = [20,5.5,5.7,15.5,53,2,18,47.4,4.5,8,3,19,1]\n",
    "X_array_copy_CR = X_array_CR.copy()\n",
    "#Se normaliza las caracteristicas para la prueba. haciendo el uso de mu y sigma calculados anteriormente, solamente los valores despues del primero, porque este es el 1.\n",
    "X_array_CR[1:] = (X_array_CR[1:] - mu_CR) / sigma_CR\n",
    "\n",
    "resultados_CR = sigmoid(np.dot(X_array_CR, theta_CR)) \n",
    "\n",
    "print(f\"Una planta con las caracteristicas: {X_array_copy_CR} \")\n",
    "print(f'Tiene una probabilidad de estar enferma de: {resultados_CR * 100} %')\n",
    "\n",
    "print(f\"Con valores de theta: { theta_CR }\")"
   ]
  },
  {
   "cell_type": "markdown",
   "metadata": {},
   "source": [
    "#### 1.1.5 Ejemplos de Predicciones\n",
    "\n",
    "Se creo una matriz con 11 ejemplos, donde se hace las predicciones correspondientes:"
   ]
  },
  {
   "cell_type": "markdown",
   "metadata": {},
   "source": [
    "##### 1.1.5.1 Definiendo nuestro umbral clasificador\n",
    "Donde:\n",
    "\n",
    "* Si $h(\\theta)$ >= 0.5, predice \"y = 1\".\n",
    "* Si $h(\\theta)$ < 0.5 , predice \"y = 0\"."
   ]
  },
  {
   "cell_type": "code",
   "execution_count": 51,
   "metadata": {},
   "outputs": [
    {
     "name": "stdout",
     "output_type": "stream",
     "text": [
      "+-----------------+------------------+-----------+-----------------------+--------------------+--------------+-------------+----------------+-------------------+---------------+----------------------+-----------------------------+-----------------------+------------------------------+\n",
      "|   Soil_Moisture |   Sunlight_Hours |   Soil_pH |   Ambient_Temperature |   Fertilizer_Level |   Plant_Type |   Plant_Age |   Plant_Height |   Pesticide_Level |   Air_Quality |   Watering_Frequency |   Days_Since_Last_Treatment |   Plant_Health_Status |   Plant_Health_Status(Si/No) |\n",
      "+=================+==================+===========+=======================+====================+==============+=============+================+===================+===============+======================+=============================+=======================+==============================+\n",
      "|              30 |              2.4 |       4.5 |                  16.7 |                 33 |            3 |          20 |           38.9 |               5.1 |             7 |                    3 |                          13 |              0.501242 |                            1 |\n",
      "+-----------------+------------------+-----------+-----------------------+--------------------+--------------+-------------+----------------+-------------------+---------------+----------------------+-----------------------------+-----------------------+------------------------------+\n",
      "|              22 |              5.3 |       5.4 |                  18.3 |                 28 |            2 |          21 |           40.1 |               6.2 |             8 |                    4 |                          15 |              0.501579 |                            1 |\n",
      "+-----------------+------------------+-----------+-----------------------+--------------------+--------------+-------------+----------------+-------------------+---------------+----------------------+-----------------------------+-----------------------+------------------------------+\n",
      "|              18 |              4.5 |       4.5 |                  17.5 |                 31 |            3 |          24 |           44.5 |               8.2 |             9 |                    3 |                          16 |              0.502651 |                            1 |\n",
      "+-----------------+------------------+-----------+-----------------------+--------------------+--------------+-------------+----------------+-------------------+---------------+----------------------+-----------------------------+-----------------------+------------------------------+\n",
      "|              16 |              6.5 |       6.2 |                  15.3 |                 29 |            2 |          31 |           47.2 |               9.1 |             5 |                    5 |                          17 |              0.500385 |                            1 |\n",
      "+-----------------+------------------+-----------+-----------------------+--------------------+--------------+-------------+----------------+-------------------+---------------+----------------------+-----------------------------+-----------------------+------------------------------+\n",
      "|              26 |              4.2 |       8.3 |                  14.9 |                 24 |            2 |          41 |           41.2 |               6.7 |             7 |                    7 |                          18 |              0.512106 |                            1 |\n",
      "+-----------------+------------------+-----------+-----------------------+--------------------+--------------+-------------+----------------+-------------------+---------------+----------------------+-----------------------------+-----------------------+------------------------------+\n",
      "|              30 |              5.3 |       7.4 |                  16.4 |                 25 |            2 |          51 |           39.2 |               5.7 |             6 |                    5 |                          16 |              0.509266 |                            1 |\n",
      "+-----------------+------------------+-----------+-----------------------+--------------------+--------------+-------------+----------------+-------------------+---------------+----------------------+-----------------------------+-----------------------+------------------------------+\n",
      "|              32 |              7.5 |       6.8 |                  19.4 |                 31 |            1 |          31 |           38.3 |               8.3 |             8 |                    6 |                          15 |              0.506327 |                            1 |\n",
      "+-----------------+------------------+-----------+-----------------------+--------------------+--------------+-------------+----------------+-------------------+---------------+----------------------+-----------------------------+-----------------------+------------------------------+\n",
      "|              42 |              9.1 |       7.1 |                  18.4 |                 34 |            3 |          21 |           40.1 |               9.3 |             5 |                    8 |                          17 |              0.501746 |                            1 |\n",
      "+-----------------+------------------+-----------+-----------------------+--------------------+--------------+-------------+----------------+-------------------+---------------+----------------------+-----------------------------+-----------------------+------------------------------+\n",
      "|              29 |              5.8 |       8.2 |                  17.3 |                 26 |            4 |          31 |           47.4 |               7.5 |             8 |                    7 |                          18 |              0.509365 |                            1 |\n",
      "+-----------------+------------------+-----------+-----------------------+--------------------+--------------+-------------+----------------+-------------------+---------------+----------------------+-----------------------------+-----------------------+------------------------------+\n",
      "|              14 |              9.4 |       6.9 |                  16.4 |                 31 |            2 |          32 |           29.4 |               8.4 |             9 |                    8 |                          19 |              0.509453 |                            1 |\n",
      "+-----------------+------------------+-----------+-----------------------+--------------------+--------------+-------------+----------------+-------------------+---------------+----------------------+-----------------------------+-----------------------+------------------------------+\n",
      "|              24 |              4.6 |       6.4 |                  19.2 |                 34 |            1 |          21 |           27.8 |               9.3 |             5 |                    6 |                          17 |              0.50412  |                            1 |\n",
      "+-----------------+------------------+-----------+-----------------------+--------------------+--------------+-------------+----------------+-------------------+---------------+----------------------+-----------------------------+-----------------------+------------------------------+\n"
     ]
    }
   ],
   "source": [
    "#nombres_columnas = ['AGE','GENDER','HEIGHT','WEIGHT','AP_HIGH','AP_LOW','CHOLESTEROL','GLUCOSE','SMOKE','ALCOHOL','PHYSICAL_ACTIVITY','CARDIO_DISEASE', 'CARDIO_DISEASE(Si/No)']\n",
    "nombres_columnas = ['Soil_Moisture','Sunlight_Hours','Soil_pH','Ambient_Temperature','Fertilizer_Level','Plant_Type','Plant_Age','Plant_Height','Pesticide_Level','Air_Quality','Watering_Frequency','Days_Since_Last_Treatment','Plant_Health_Status','Plant_Health_Status(Si/No)']\n",
    "matriz_datos_CR = np.array([\n",
    "[30,2.4,4.5,16.7,33,3,20,38.9,5.1,7,3,13],\n",
    "[22,5.3,5.4,18.3,28,2,21,40.1,6.2,8,4,15],\n",
    "[18,4.5,4.5,17.5,31,3,24,44.5,8.2,9,3,16],\n",
    "[16,6.5,6.2,15.3,29,2,31,47.2,9.1,5,5,17],\n",
    "[26,4.2,8.3,14.9,24,2,41,41.2,6.7,7,7,18],\n",
    "[30,5.3,7.4,16.4,25,2,51,39.2,5.7,6,5,16],\n",
    "[32,7.5,6.8,19.4,31,1,31,38.3,8.3,8,6,15],\n",
    "[42,9.1,7.1,18.4,34,3,21,40.1,9.3,5,8,17],\n",
    "[29,5.8,8.2,17.3,26,4,31,47.4,7.5,8,7,18],\n",
    "[14,9.4,6.9,16.4,31,2,32,29.4,8.4,9,8,19],\n",
    "[24,4.6,6.4,19.2,34,1,21,27.8,9.3,5,6,17],\n",
    "])\n",
    "\n",
    "para_tabla = matriz_datos_CR.copy()\n",
    "#creamos un vector parta almacenar cada Y predicha\n",
    "y_pre_CR = []\n",
    "\n",
    "matriz_datos_CR = (matriz_datos_CR- mu_CR) / sigma_CR\n",
    "matriz_datos_CR = np.concatenate([np.ones((len(matriz_datos_CR), 1)), matriz_datos_CR], axis=1)\n",
    "\n",
    "# Calculamos la Y predicha de los 11 ejemplos de prediccion\n",
    "# Calculamos la Y predicha de cada fila de la matriz\n",
    "for j in matriz_datos_CR:\n",
    "    y_pre_CR.append(sigmoid(np.dot(j, theta_CR)))\n",
    "\n",
    "# Convertimos la lista a un array unidimensional\n",
    "\n",
    "y_pre_CR = np.array(y_pre_CR)\n",
    "\n",
    "# usamos umbral para definir si tiene o no la enfermedad\n",
    "y_pre_umbral_CR = (y_pre_CR >= 0.5).astype(int)\n",
    "\n",
    "para_tabla = np.column_stack((para_tabla, y_pre_CR))\n",
    "para_tabla = np.column_stack((para_tabla, y_pre_umbral_CR))\n",
    "# Convertir la matriz en una lista de listas\n",
    "datos_para_tabla = para_tabla.tolist()\n",
    "\n",
    "# Imprimir la tabla\n",
    "print(tabulate(datos_para_tabla, headers=nombres_columnas, tablefmt='grid'))"
   ]
  },
  {
   "cell_type": "markdown",
   "metadata": {},
   "source": [
    "#### 1.1.6 Validaciones\n",
    "Para hacer las validaciones correspondientes se hizo el uso siguiendo el consejo de 80/20, donde 80% es para la fase de entrenamiento, y 20% es para la fase de prueba."
   ]
  },
  {
   "cell_type": "markdown",
   "metadata": {},
   "source": [
    "##### 1.1.6.1 Normalizamos el X_test que es el 20% separado a un incio:"
   ]
  },
  {
   "cell_type": "code",
   "execution_count": 52,
   "metadata": {},
   "outputs": [],
   "source": [
    "X_norm_test_CR = (X_testCR- mu_CR) / sigma_CR\n",
    "m_test= len(X_testCR)"
   ]
  },
  {
   "cell_type": "markdown",
   "metadata": {},
   "source": [
    "##### 1.1.6.2 Concadenamos unos a matriz X normalizado del test:"
   ]
  },
  {
   "cell_type": "code",
   "execution_count": 53,
   "metadata": {},
   "outputs": [
    {
     "name": "stdout",
     "output_type": "stream",
     "text": [
      "  X[:,0] X[:, 1]   X[:, 2]   X[:, 3] X[:, 4] X[:, 5] X[:, 6] X[:, 7]X[:, 8]   X[:, 9]  X[:, 10]  X[:, 11]\n",
      "--------------------------------------------------------------------------------------------------------------\n",
      "   1.000   1.086    -0.667    -1.617  -1.566  -1.424   1.152  -0.060   0.837    -1.631   1.018   0.304\n",
      "   1.000   0.410     1.226    -0.440  -0.224   1.146   0.375  -1.485   1.430     0.820   0.425   1.475\n",
      "   1.000  -0.985     0.364    -0.385   1.587  -0.274   0.763   0.347   1.087     1.155   0.072   0.890\n",
      "   1.000   0.971     0.761    -0.049  -0.807   1.630  -1.567  -0.670  -1.618    -1.645   0.160  -0.868\n",
      "   1.000   1.558    -0.745    -1.640  -1.110   0.805   0.375  -1.349   1.592     1.339  -0.539  -1.454\n",
      "   1.000  -0.054     0.938    -0.783   1.225  -1.412   0.375   1.365   1.111    -0.349   1.678   0.304\n",
      "   1.000   0.306    -1.684    -0.531   0.818   1.465  -0.402   0.076   0.427    -0.212  -1.712  -0.868\n",
      "   1.000  -0.523     0.419    -1.608  -0.880   1.047   0.763  -0.738   1.370    -0.122   0.999   1.475\n",
      "   1.000   0.471     1.743     0.461  -0.804  -0.023  -1.178  -0.806   0.633    -0.046   1.706   1.475\n",
      "   1.000   0.413    -0.431     0.154   0.654  -0.011  -0.013   0.483  -0.424    -0.480   0.182  -0.868\n"
     ]
    }
   ],
   "source": [
    "X_test_ready_CR = np.concatenate([np.ones((m_test_CR, 1)), X_norm_test_CR], axis=1)\n",
    "\n",
    "# imprimir todos las X_norm de datos solo 10\n",
    "print('{:>8s}{:>8s}{:>10s}{:>10s}{:>8s}{:>8s}{:>8s}{:>8s}{:>6s}{:>10s}{:>10s}{:>10s}'.format(\n",
    "    'X[:,0]', 'X[:, 1]', 'X[:, 2]', 'X[:, 3]', 'X[:, 4]', 'X[:, 5]', 'X[:, 6]', 'X[:, 7]', 'X[:, 8]', 'X[:, 9]', 'X[:, 10]', 'X[:, 11]'\n",
    "))\n",
    "print('-' * 110)\n",
    "\n",
    "for i in range(10):\n",
    "    print('{:8.3f}{:8.3f}{:10.3f}{:10.3f}{:8.3f}{:8.3f}{:8.3f}{:8.3f}{:8.3f}{:10.3f}{:8.3f}{:8.3f}'.format(\n",
    "    X_test_ready_CR[i, 0],\n",
    "    X_test_ready_CR[i, 1],\n",
    "    X_test_ready_CR[i, 2],\n",
    "    X_test_ready_CR[i, 3], \n",
    "    X_test_ready_CR[i, 4],\n",
    "    X_test_ready_CR[i, 5], \n",
    "    X_test_ready_CR[i, 6],\n",
    "    X_test_ready_CR[i, 7], \n",
    "    X_test_ready_CR[i, 8], \n",
    "    X_test_ready_CR[i, 9], \n",
    "    X_test_ready_CR[i, 10], \n",
    "    X_test_ready_CR[i, 11]\n",
    "    ))"
   ]
  },
  {
   "cell_type": "markdown",
   "metadata": {},
   "source": [
    "##### 1.1.6.3 Hacemos el calculo de Y predicha "
   ]
  },
  {
   "cell_type": "code",
   "execution_count": 54,
   "metadata": {},
   "outputs": [
    {
     "name": "stdout",
     "output_type": "stream",
     "text": [
      "  X[:,0] X[:, 1]   X[:, 2]   X[:, 3] X[:, 4] X[:, 5] X[:, 6] X[:, 7]X[:, 8]   X[:, 9]  X[:, 10]  X[:, 11]         y     (y) usando el umbral\n",
      "--------------------------------------------------------------------------------------------------------------------------------------------\n",
      "   1.000   1.086    -0.667    -1.617  -1.566  -1.424   1.152  -0.060   0.837    -1.631   1.018   0.304           0.50              0\n",
      "   1.000   0.410     1.226    -0.440  -0.224   1.146   0.375  -1.485   1.430     0.820   0.425   1.475           0.49              0\n",
      "   1.000  -0.985     0.364    -0.385   1.587  -0.274   0.763   0.347   1.087     1.155   0.072   0.890           0.50              1\n",
      "   1.000   0.971     0.761    -0.049  -0.807   1.630  -1.567  -0.670  -1.618    -1.645   0.160  -0.868           0.49              0\n",
      "   1.000   1.558    -0.745    -1.640  -1.110   0.805   0.375  -1.349   1.592     1.339  -0.539  -1.454           0.48              0\n",
      "   1.000  -0.054     0.938    -0.783   1.225  -1.412   0.375   1.365   1.111    -0.349   1.678   0.304           0.51              1\n",
      "   1.000   0.306    -1.684    -0.531   0.818   1.465  -0.402   0.076   0.427    -0.212  -1.712  -0.868           0.50              0\n",
      "   1.000  -0.523     0.419    -1.608  -0.880   1.047   0.763  -0.738   1.370    -0.122   0.999   1.475           0.50              0\n",
      "   1.000   0.471     1.743     0.461  -0.804  -0.023  -1.178  -0.806   0.633    -0.046   1.706   1.475           0.49              0\n",
      "   1.000   0.413    -0.431     0.154   0.654  -0.011  -0.013   0.483  -0.424    -0.480   0.182  -0.868           0.50              1\n"
     ]
    }
   ],
   "source": [
    "y_predicha_CR =[]\n",
    "# Calculamos la Y predicha de cada fila de la matriz\n",
    "for dato in X_test_ready_CR:\n",
    "    y_predicha_CR.append(sigmoid(np.dot(dato, theta_CR.T)))\n",
    "\n",
    "# Convertimos la lista a un array unidimensional\n",
    "y_predicha_CR = np.array(y_predicha_CR)\n",
    "\n",
    "#usando el umbral donde todo aquello que sea >= 0.5 sera 1, y si es menor sera 0\n",
    "y_umbral_CR = (y_predicha_CR >= 0.5).astype(int)\n",
    "\n",
    "# imprimir todos las X_norm de datos solo 10\n",
    "print('{:>8s}{:>8s}{:>10s}{:>10s}{:>8s}{:>8s}{:>8s}{:>8s}{:>6s}{:>10s}{:>10s}{:>10s}{:>10s}{:>25s}'.format(\n",
    "    'X[:,0]', 'X[:, 1]', 'X[:, 2]', 'X[:, 3]', 'X[:, 4]', 'X[:, 5]', 'X[:, 6]', 'X[:, 7]', 'X[:, 8]', 'X[:, 9]', 'X[:, 10]', 'X[:, 11]','y','(y) usando el umbral'\n",
    "))\n",
    "print('-' * 140)\n",
    "\n",
    "#Mostrando algunos datos\n",
    "for i in range(10):\n",
    "    print('{:8.3f}{:8.3f}{:10.3f}{:10.3f}{:8.3f}{:8.3f}{:8.3f}{:8.3f}{:8.3f}{:10.3f}{:8.3f}{:8.3f}{:15.2f}{:15.0f}'.format(\n",
    "    X_test_ready_CR[i, 0],\n",
    "    X_test_ready_CR[i, 1], \n",
    "    X_test_ready_CR[i, 2], \n",
    "    X_test_ready_CR[i, 3],\n",
    "    X_test_ready_CR[i, 4], \n",
    "    X_test_ready_CR[i, 5], \n",
    "    X_test_ready_CR[i, 6],\n",
    "    X_test_ready_CR[i, 7], \n",
    "    X_test_ready_CR[i, 8], \n",
    "    X_test_ready_CR[i, 9], \n",
    "    X_test_ready_CR[i, 10],\n",
    "    X_test_ready_CR[i, 11], \n",
    "    y_predicha_CR[i], \n",
    "    y_umbral_CR[i]\n",
    "    ))"
   ]
  },
  {
   "cell_type": "markdown",
   "metadata": {},
   "source": [
    "##### 1.1.6.4 Calculando la precision del entrenamiento:\n",
    "se hace uso del **np.mean**, Calcula la media (promedio) de los valores booleanos. Dado que True se interpreta como 1 y False como 0 en operaciones aritméticas, la media resultante será la proporción de elementos iguales en **y_predicha** e **y_test**."
   ]
  },
  {
   "cell_type": "code",
   "execution_count": 55,
   "metadata": {},
   "outputs": [
    {
     "name": "stdout",
     "output_type": "stream",
     "text": [
      "Precisión de entrenamiento: 50.47619 %\n"
     ]
    }
   ],
   "source": [
    "print('Precisión de entrenamiento: {:.5f} %'.format(np.mean(y_umbral_CR == y_testCR) * 100))"
   ]
  },
  {
   "cell_type": "markdown",
   "metadata": {},
   "source": [
    "## 2. Usando sin regularizacion\n",
    "\n",
    "En este paso se aplicara los mismos pasos, solo que no se aplicara la regularizacion  para evitar el **sobreajuste (overfitting)** de un modelo a los datos de entrenamiento.\n"
   ]
  },
  {
   "cell_type": "markdown",
   "metadata": {},
   "source": [
    "### 2.1 Regresion Logistica\n",
    "\n",
    "Carga de los datos para la regresion logistica:"
   ]
  },
  {
   "cell_type": "code",
   "execution_count": 56,
   "metadata": {},
   "outputs": [
    {
     "name": "stdout",
     "output_type": "stream",
     "text": [
      "  X[:,0] X[:, 1]   X[:, 2]   X[:, 3] X[:, 4] X[:, 5] X[:, 6] X[:, 7]X[:, 8]   X[:, 9]  X[:, 10]         Y\n",
      "--------------------------------------------------------------------------------------------------------------\n",
      "      37       5         8        24      15       8      28      15      11        10       3           1\n",
      "      70       6         3        19       6       6      44     126      12         7       1           1\n",
      "      39      10         5        22      35       1       4     140      26         3       3           1\n",
      "      46      10         6        12      31       5      15     103      28         3       3           1\n",
      "      24       2         7        24       2       1      22     136      28         5       6           1\n",
      "      61       5         7        20      31       1      38      23      20         2       6           1\n",
      "      28       7         8        16       3       7      35      82      19         3       6           1\n",
      "      23       7         7        17      36       2      33     129      18         5       4           1\n",
      "      64       7         7        26       5       8      31      18      29         7       3           0\n",
      "      20       7         4        24      26       8      31      74      14         6       5           0\n",
      " \n",
      "El 80% de ejemplos para entrenamiento son la cantidad de: 18480 de ejemplos\n",
      "El 20% de ejemplos para pruebas son la cantidad de: 4620 de ejemplos\n",
      "La cantidad total de ejemplos es de: 23100 de ejemplos\n"
     ]
    }
   ],
   "source": [
    "#hacemos una copia de y_train y y_test para usarlo en la regresion lineal multivariable\n",
    "\n",
    "#estos datos seran usados para el entrenamiento\n",
    "X_testSR = X_test.copy()\n",
    "y_testSR = y_test.copy()\n",
    "m_test_SR = len(y_testSR)\n",
    "\n",
    "#estos datos seran usados para el test\n",
    "X_trainSR = X_train.copy()\n",
    "y_trainSR = y_train.copy()\n",
    "m_train_SR = len(y_trainSR)\n",
    "\n",
    "#Imprimimos algunos datos:\n",
    "# imprimir todos las X de datos solo 10\n",
    "print('{:>8s}{:>8s}{:>10s}{:>10s}{:>8s}{:>8s}{:>8s}{:>8s}{:>6s}{:>10s}{:>10s}{:>10s}'.format(\n",
    "    'X[:,0]', 'X[:, 1]', 'X[:, 2]', 'X[:, 3]', 'X[:, 4]', 'X[:, 5]', 'X[:, 6]', 'X[:, 7]', 'X[:, 8]', 'X[:, 9]', 'X[:, 10]', 'Y'\n",
    "))\n",
    "print('-' * 110)\n",
    "\n",
    "for i in range(10):\n",
    "    print('{:8.0f}{:8.0f}{:10.0f}{:10.0f}{:8.0f}{:8.0f}{:8.0f}{:8.0f}{:8.0f}{:10.0f}{:8.0f}{:12.0f}'.format(\n",
    "        X_trainSR[i, 0], \n",
    "        X_trainSR[i, 1],\n",
    "        X_trainSR[i, 2],\n",
    "        X_trainSR[i, 3], \n",
    "        X_trainSR[i, 4], \n",
    "        X_trainSR[i, 5],\n",
    "        X_trainSR[i, 6], \n",
    "        X_trainSR[i, 7], \n",
    "        X_trainSR[i, 8], \n",
    "        X_trainSR[i, 9], \n",
    "        X_trainSR[i, 10], \n",
    "        y_trainSR[i]\n",
    "    ))\n",
    "\n",
    "#mostramos la cantidad de ejemplos\n",
    "print(\" \")\n",
    "print('El 80% de ejemplos para entrenamiento son la cantidad de: {:.0f} de ejemplos'.format( len(train_dataset)))\n",
    "print('El 20% de ejemplos para pruebas son la cantidad de: {:.0f} de ejemplos'.format( len(test_dataset)))\n",
    "print('La cantidad total de ejemplos es de: {:.0f} de ejemplos'.format( len(df)))"
   ]
  },
  {
   "cell_type": "markdown",
   "metadata": {},
   "source": [
    "#### 2.1.1 Normalizacion de las caracteristicas\n",
    "\n",
    "Se hace uso de la funcion de `featureNormalize(X) ` para normalizar todos los valores de nuestra matriz X:"
   ]
  },
  {
   "cell_type": "code",
   "execution_count": 57,
   "metadata": {},
   "outputs": [
    {
     "name": "stdout",
     "output_type": "stream",
     "text": [
      "  X[:,0] X[:, 1]   X[:, 2]   X[:, 3] X[:, 4] X[:, 5] X[:, 6] X[:, 7]X[:, 8]   X[:, 9]  X[:, 10]\n",
      "--------------------------------------------------------------------------------------------------------------\n",
      "  -0.731  -0.580     1.263     0.176  -0.727   1.152   0.144  -1.618  -0.422     1.725  -0.282\n",
      "   1.178   0.055    -1.649    -0.493  -1.319   0.375   1.229   1.155  -0.416     0.494  -1.454\n",
      "  -0.603   1.727    -0.841    -0.060   0.642  -1.567  -1.485   1.505   1.258    -1.024  -0.282\n",
      "  -0.256   1.639    -0.257    -1.428   0.419  -0.013  -0.738   0.575   1.466    -0.862  -0.282\n",
      "  -1.517  -1.509     0.861     0.223  -1.570  -1.567  -0.263   1.391   1.453    -0.180   1.475\n",
      "   0.659  -0.352     0.363    -0.278   0.396  -1.567   0.822  -1.429   0.608    -1.417   1.475\n",
      "  -1.267   0.638     0.870    -0.841  -1.552   0.763   0.619   0.053   0.449    -0.983   1.475\n",
      "  -1.535   0.235     0.666    -0.792   0.708  -1.178   0.483   1.223   0.361    -0.089   0.304\n",
      "   0.833   0.393     0.350     0.464  -1.368   1.152   0.347  -1.542   1.583     0.656  -0.282\n",
      "  -1.694   0.646    -1.071     0.200   0.018   1.152   0.347  -0.160  -0.168     0.162   0.890\n"
     ]
    }
   ],
   "source": [
    "X_norm_SR, mu_SR, sigma_SR= featureNormalize(X_trainSR)\n",
    "\n",
    "# imprimir todos las X_norm de datos solo 10\n",
    "print('{:>8s}{:>8s}{:>10s}{:>10s}{:>8s}{:>8s}{:>8s}{:>8s}{:>6s}{:>10s}{:>10s}'.format(\n",
    "    'X[:,0]', 'X[:, 1]', 'X[:, 2]', 'X[:, 3]', 'X[:, 4]', 'X[:, 5]', 'X[:, 6]', 'X[:, 7]', 'X[:, 8]', 'X[:, 9]', 'X[:, 10]'\n",
    "))\n",
    "print('-' * 110)\n",
    "\n",
    "for i in range(10):\n",
    "    print('{:8.3f}{:8.3f}{:10.3f}{:10.3f}{:8.3f}{:8.3f}{:8.3f}{:8.3f}{:8.3f}{:10.3f}{:8.3f}'.format(\n",
    "        X_norm_SR[i, 0], \n",
    "        X_norm_SR[i, 1],\n",
    "        X_norm_SR[i, 2], \n",
    "        X_norm_SR[i, 3], \n",
    "        X_norm_SR[i, 4], \n",
    "        X_norm_SR[i, 5],\n",
    "        X_norm_SR[i, 6],\n",
    "        X_norm_SR[i, 7], \n",
    "        X_norm_SR[i, 8], \n",
    "        X_norm_SR[i, 9], \n",
    "        X_norm_SR[i, 10]\n",
    "    ))"
   ]
  },
  {
   "cell_type": "markdown",
   "metadata": {},
   "source": [
    "#### 2.1.2 Agregamos la columna de unos a nuestra matriz\n",
    "\n",
    "Agregamos nuestro sesgo de columna de unos a nuestra matriz de X:"
   ]
  },
  {
   "cell_type": "code",
   "execution_count": 58,
   "metadata": {},
   "outputs": [
    {
     "name": "stdout",
     "output_type": "stream",
     "text": [
      "  X[:,0] X[:, 1]   X[:, 2]   X[:, 3] X[:, 4] X[:, 5] X[:, 6] X[:, 7]X[:, 8]   X[:, 9]  X[:, 10]  X[:, 11]\n",
      "----------------------------------------------------------------------------------------------------------------------------------\n",
      "   1.000  -0.731    -0.580     1.263   0.176  -0.727   1.152   0.144  -1.618    -0.422   1.725  -0.282\n",
      "   1.000   1.178     0.055    -1.649  -0.493  -1.319   0.375   1.229   1.155    -0.416   0.494  -1.454\n",
      "   1.000  -0.603     1.727    -0.841  -0.060   0.642  -1.567  -1.485   1.505     1.258  -1.024  -0.282\n",
      "   1.000  -0.256     1.639    -0.257  -1.428   0.419  -0.013  -0.738   0.575     1.466  -0.862  -0.282\n",
      "   1.000  -1.517    -1.509     0.861   0.223  -1.570  -1.567  -0.263   1.391     1.453  -0.180   1.475\n",
      "   1.000   0.659    -0.352     0.363  -0.278   0.396  -1.567   0.822  -1.429     0.608  -1.417   1.475\n",
      "   1.000  -1.267     0.638     0.870  -0.841  -1.552   0.763   0.619   0.053     0.449  -0.983   1.475\n",
      "   1.000  -1.535     0.235     0.666  -0.792   0.708  -1.178   0.483   1.223     0.361  -0.089   0.304\n",
      "   1.000   0.833     0.393     0.350   0.464  -1.368   1.152   0.347  -1.542     1.583   0.656  -0.282\n",
      "   1.000  -1.694     0.646    -1.071   0.200   0.018   1.152   0.347  -0.160    -0.168   0.162   0.890\n"
     ]
    }
   ],
   "source": [
    "X_ready_SR = np.concatenate([np.ones((m_train_SR, 1)), X_norm_SR], axis=1)\n",
    "\n",
    "# print(len(X_ready[0]))\n",
    "\n",
    "# imprimir todos las X_norm de datos solo 10\n",
    "print('{:>8s}{:>8s}{:>10s}{:>10s}{:>8s}{:>8s}{:>8s}{:>8s}{:>6s}{:>10s}{:>10s}{:>10s}'.format(\n",
    "    'X[:,0]', 'X[:, 1]', 'X[:, 2]', 'X[:, 3]', 'X[:, 4]', 'X[:, 5]', 'X[:, 6]', 'X[:, 7]', 'X[:, 8]', 'X[:, 9]', 'X[:, 10]', 'X[:, 11]'\n",
    "))\n",
    "print('-' * 130)\n",
    "\n",
    "for i in range(10):\n",
    "    print('{:8.3f}{:8.3f}{:10.3f}{:10.3f}{:8.3f}{:8.3f}{:8.3f}{:8.3f}{:8.3f}{:10.3f}{:8.3f}{:8.3f}'.format(\n",
    "        X_ready_SR[i, 0],\n",
    "        X_ready_SR[i, 1], \n",
    "        X_ready_SR[i, 2], \n",
    "        X_ready_SR[i, 3],\n",
    "        X_ready_SR[i, 4], \n",
    "        X_ready_SR[i, 5], \n",
    "        X_ready_SR[i, 6], \n",
    "        X_ready_SR[i, 7], \n",
    "        X_ready_SR[i, 8], \n",
    "        X_ready_SR[i, 9], \n",
    "        X_ready_SR[i, 10], \n",
    "        X_ready_SR[i, 11]\n",
    "    ))\n"
   ]
  },
  {
   "cell_type": "markdown",
   "metadata": {},
   "source": [
    "##### 2.1.3.2Descenso por el gradiente\n",
    "\n",
    "Hacemos uso de la funcion para hacer el calculo del descenso por el gradiente pero esta ves sin introducir el parametro `lambda`:"
   ]
  },
  {
   "cell_type": "code",
   "execution_count": 59,
   "metadata": {},
   "outputs": [
    {
     "name": "stdout",
     "output_type": "stream",
     "text": [
      "########################################################################################################\n",
      "Los valores de theta calculados son:\n",
      "theta 1: -0.008782342649262104\n",
      "theta 2: -0.001028927816191426\n",
      "theta 3: -0.012914019431927517\n",
      "theta 4: 0.0005542772274028295\n",
      "theta 5: 0.012055026370573546\n",
      "theta 6: 0.0036655015143285245\n",
      "theta 7: 0.0021444074650637554\n",
      "theta 8: 0.0209632020024526\n",
      "theta 9: -0.011967447685532245\n",
      "theta 10: 0.0024895970270515364\n",
      "theta 11: 0.01487507785749751\n",
      "theta 12: 0.015402536579450924\n",
      "theta 13: 0.001680737728295294\n",
      "########################################################################################################\n",
      "con un costo de: 0.6929516848129017 \n"
     ]
    }
   ],
   "source": [
    "#creamos un theta con 19 columnas de ceros\n",
    "theta_SR = np.zeros(len(X_ready_SR[0]))\n",
    "\n",
    "#numero de iteraciones sera 900 y un alpha 0.009\n",
    "num_ite_SR = 15000\n",
    "alpha_SR = 0.0009\n",
    "\n",
    "theta_SR, J_historico_SR = descensoGradienteSR(theta_SR, X_ready_SR, y_trainSR, alpha_SR, num_ite_SR)\n",
    "\n",
    "print(\"########################################################################################################\")\n",
    "print(\"Los valores de theta calculados son:\")\n",
    "i = 0\n",
    "for tht_SR in theta_SR:\n",
    "    i += 1\n",
    "    print(f\"theta {i}: {tht_SR}\")\n",
    "\n",
    "\n",
    "print(f\"########################################################################################################\")\n",
    "#mostramos el ultimo costo, este seria el mejor costo\n",
    "print(f\"con un costo de: { J_historico_SR[-1]} \")"
   ]
  },
  {
   "cell_type": "markdown",
   "metadata": {},
   "source": [
    "#### 2.1.4 Grafica de la convergencia del costo\n",
    "graficamos el costo"
   ]
  },
  {
   "cell_type": "code",
   "execution_count": 60,
   "metadata": {},
   "outputs": [
    {
     "data": {
      "text/plain": [
       "Text(0, 0.5, 'Costo J')"
      ]
     },
     "execution_count": 60,
     "metadata": {},
     "output_type": "execute_result"
    },
    {
     "data": {
      "image/png": "[encoded data removed]",
      "text/plain": [
       "<Figure size 640x480 with 1 Axes>"
      ]
     },
     "metadata": {},
     "output_type": "display_data"
    }
   ],
   "source": [
    "pyplot.plot(np.arange(len(J_historico_SR)), J_historico_SR, lw=2)\n",
    "pyplot.title(\"Grafica de la convergencia del costo\")\n",
    "pyplot.xlabel('Numero de iteraciones')\n",
    "pyplot.ylabel('Costo J')"
   ]
  },
  {
   "cell_type": "markdown",
   "metadata": {},
   "source": [
    "Haciendo la prueba con un ejemplo"
   ]
  },
  {
   "cell_type": "code",
   "execution_count": 63,
   "metadata": {},
   "outputs": [
    {
     "name": "stdout",
     "output_type": "stream",
     "text": [
      "Una persona con las caracteristicas: [20, 5.5, 5.7, 15.5, 53, 2, 18, 47.4, 4.5, 8, 3, 19, 1] \n",
      "Tiene una probabilidad de tener diabetes de: 51.54414395325807 %\n",
      "Con valores de theta: [-0.00878234 -0.00102893 -0.01291402  0.00055428  0.01205503  0.0036655\n",
      "  0.00214441  0.0209632  -0.01196745  0.0024896   0.01487508  0.01540254\n",
      "  0.00168074]\n"
     ]
    }
   ],
   "source": [
    "X_array_SR = [20,5.5,5.7,15.5,53,2,18,47.4,4.5,8,3,19,1]\n",
    "X_array_copy_SR = X_array_SR.copy()\n",
    "#Se normaliza las caracteristicas para la prueba. haciendo el uso de mu y sigma calculados anteriormente, solamente los valores despues del primero, porque este es el 1.\n",
    "X_array_SR[1:] = (X_array_SR[1:] - mu_SR) / sigma_SR\n",
    "\n",
    "resultados_SR = sigmoid(np.dot(X_array_SR, theta_SR)) \n",
    "\n",
    "print(f\"Una persona con las caracteristicas: {X_array_copy_SR} \")\n",
    "print(f'Tiene una probabilidad de tener diabetes de: {resultados_SR * 100} %')\n",
    "\n",
    "print(f\"Con valores de theta: { theta_SR }\")"
   ]
  },
  {
   "cell_type": "markdown",
   "metadata": {},
   "source": [
    "##### 2.1.5.1 Definiendo nuestro umbral clasificador\n",
    "Donde:\n",
    "\n",
    "* Si $h(\\theta)$ >= 0.5, predice \"y = 1\".\n",
    "* Si $h(\\theta)$ < 0.5 , predice \"y = 0\"."
   ]
  },
  {
   "cell_type": "code",
   "execution_count": 64,
   "metadata": {},
   "outputs": [
    {
     "name": "stdout",
     "output_type": "stream",
     "text": [
      "+-----------------+------------------+-----------+-----------------------+--------------------+--------------+-------------+----------------+-------------------+---------------+----------------------+-----------------------------+-----------------------+------------------------------+\n",
      "|   Soil_Moisture |   Sunlight_Hours |   Soil_pH |   Ambient_Temperature |   Fertilizer_Level |   Plant_Type |   Plant_Age |   Plant_Height |   Pesticide_Level |   Air_Quality |   Watering_Frequency |   Days_Since_Last_Treatment |   Plant_Health_Status |   Plant_Health_Status(Si/No) |\n",
      "+=================+==================+===========+=======================+====================+==============+=============+================+===================+===============+======================+=============================+=======================+==============================+\n",
      "|              30 |              2.4 |       4.5 |                  16.7 |                 33 |            3 |          20 |           38.9 |               5.1 |             7 |                    3 |                          13 |              0.501905 |                            1 |\n",
      "+-----------------+------------------+-----------+-----------------------+--------------------+--------------+-------------+----------------+-------------------+---------------+----------------------+-----------------------------+-----------------------+------------------------------+\n",
      "|              22 |              5.3 |       5.4 |                  18.3 |                 28 |            2 |          21 |           40.1 |               6.2 |             8 |                    4 |                          15 |              0.50231  |                            1 |\n",
      "+-----------------+------------------+-----------+-----------------------+--------------------+--------------+-------------+----------------+-------------------+---------------+----------------------+-----------------------------+-----------------------+------------------------------+\n",
      "|              18 |              4.5 |       4.5 |                  17.5 |                 31 |            3 |          24 |           44.5 |               8.2 |             9 |                    3 |                          16 |              0.503582 |                            1 |\n",
      "+-----------------+------------------+-----------+-----------------------+--------------------+--------------+-------------+----------------+-------------------+---------------+----------------------+-----------------------------+-----------------------+------------------------------+\n",
      "|              16 |              6.5 |       6.2 |                  15.3 |                 29 |            2 |          31 |           47.2 |               9.1 |             5 |                    5 |                          17 |              0.500898 |                            1 |\n",
      "+-----------------+------------------+-----------+-----------------------+--------------------+--------------+-------------+----------------+-------------------+---------------+----------------------+-----------------------------+-----------------------+------------------------------+\n",
      "|              26 |              4.2 |       8.3 |                  14.9 |                 24 |            2 |          41 |           41.2 |               6.7 |             7 |                    7 |                          18 |              0.514896 |                            1 |\n",
      "+-----------------+------------------+-----------+-----------------------+--------------------+--------------+-------------+----------------+-------------------+---------------+----------------------+-----------------------------+-----------------------+------------------------------+\n",
      "|              30 |              5.3 |       7.4 |                  16.4 |                 25 |            2 |          51 |           39.2 |               5.7 |             6 |                    5 |                          16 |              0.511514 |                            1 |\n",
      "+-----------------+------------------+-----------+-----------------------+--------------------+--------------+-------------+----------------+-------------------+---------------+----------------------+-----------------------------+-----------------------+------------------------------+\n",
      "|              32 |              7.5 |       6.8 |                  19.4 |                 31 |            1 |          31 |           38.3 |               8.3 |             8 |                    6 |                          15 |              0.50799  |                            1 |\n",
      "+-----------------+------------------+-----------+-----------------------+--------------------+--------------+-------------+----------------+-------------------+---------------+----------------------+-----------------------------+-----------------------+------------------------------+\n",
      "|              42 |              9.1 |       7.1 |                  18.4 |                 34 |            3 |          21 |           40.1 |               9.3 |             5 |                    8 |                          17 |              0.502524 |                            1 |\n",
      "+-----------------+------------------+-----------+-----------------------+--------------------+--------------+-------------+----------------+-------------------+---------------+----------------------+-----------------------------+-----------------------+------------------------------+\n",
      "|              29 |              5.8 |       8.2 |                  17.3 |                 26 |            4 |          31 |           47.4 |               7.5 |             8 |                    7 |                          18 |              0.51162  |                            1 |\n",
      "+-----------------+------------------+-----------+-----------------------+--------------------+--------------+-------------+----------------+-------------------+---------------+----------------------+-----------------------------+-----------------------+------------------------------+\n",
      "|              14 |              9.4 |       6.9 |                  16.4 |                 31 |            2 |          32 |           29.4 |               8.4 |             9 |                    8 |                          19 |              0.511723 |                            1 |\n",
      "+-----------------+------------------+-----------+-----------------------+--------------------+--------------+-------------+----------------+-------------------+---------------+----------------------+-----------------------------+-----------------------+------------------------------+\n",
      "|              24 |              4.6 |       6.4 |                  19.2 |                 34 |            1 |          21 |           27.8 |               9.3 |             5 |                    6 |                          17 |              0.50535  |                            1 |\n",
      "+-----------------+------------------+-----------+-----------------------+--------------------+--------------+-------------+----------------+-------------------+---------------+----------------------+-----------------------------+-----------------------+------------------------------+\n"
     ]
    }
   ],
   "source": [
    "nombres_columnas = ['Soil_Moisture','Sunlight_Hours','Soil_pH','Ambient_Temperature','Fertilizer_Level','Plant_Type','Plant_Age','Plant_Height','Pesticide_Level','Air_Quality','Watering_Frequency','Days_Since_Last_Treatment','Plant_Health_Status','Plant_Health_Status(Si/No)']\n",
    "matriz_datos_SR = np.array([\n",
    "[30,2.4,4.5,16.7,33,3,20,38.9,5.1,7,3,13],\n",
    "[22,5.3,5.4,18.3,28,2,21,40.1,6.2,8,4,15],\n",
    "[18,4.5,4.5,17.5,31,3,24,44.5,8.2,9,3,16],\n",
    "[16,6.5,6.2,15.3,29,2,31,47.2,9.1,5,5,17],\n",
    "[26,4.2,8.3,14.9,24,2,41,41.2,6.7,7,7,18],\n",
    "[30,5.3,7.4,16.4,25,2,51,39.2,5.7,6,5,16],\n",
    "[32,7.5,6.8,19.4,31,1,31,38.3,8.3,8,6,15],\n",
    "[42,9.1,7.1,18.4,34,3,21,40.1,9.3,5,8,17],\n",
    "[29,5.8,8.2,17.3,26,4,31,47.4,7.5,8,7,18],\n",
    "[14,9.4,6.9,16.4,31,2,32,29.4,8.4,9,8,19],\n",
    "[24,4.6,6.4,19.2,34,1,21,27.8,9.3,5,6,17],\n",
    "])\n",
    "\n",
    "para_tabla = matriz_datos_SR.copy()\n",
    "#creamos un vector parta almacenar cada Y predicha\n",
    "y_pre_SR = []\n",
    "\n",
    "matriz_datos_SR = (matriz_datos_SR- mu_SR) / sigma_SR\n",
    "matriz_datos_SR = np.concatenate([np.ones((len(matriz_datos_SR), 1)), matriz_datos_SR], axis=1)\n",
    "\n",
    "# Calculamos la Y predicha de los 11 ejemplos de prediccion\n",
    "# Calculamos la Y predicha de cada fila de la matriz\n",
    "for j in matriz_datos_SR:\n",
    "    y_pre_SR.append(sigmoid(np.dot(j, theta_SR)))\n",
    "\n",
    "# Convertimos la lista a un array unidimensional\n",
    "\n",
    "y_pre_SR = np.array(y_pre_SR)\n",
    "\n",
    "# usamos umbral para definir si tiene o no la enfermedad\n",
    "y_pre_umbral_SR = (y_pre_SR >= 0.5).astype(int)\n",
    "\n",
    "para_tabla = np.column_stack((para_tabla, y_pre_SR))\n",
    "para_tabla = np.column_stack((para_tabla, y_pre_umbral_SR))\n",
    "# Convertir la matriz en una lista de listas\n",
    "datos_para_tabla = para_tabla.tolist()\n",
    "\n",
    "# Imprimir la tabla\n",
    "print(tabulate(datos_para_tabla, headers=nombres_columnas, tablefmt='grid'))"
   ]
  },
  {
   "cell_type": "markdown",
   "metadata": {},
   "source": [
    "#### 2.1.6 Validaciones\n",
    "Para hacer las validaciones correspondientes se hizo el uso siguiendo el consejo de 80/20, donde 80% es para la fase de entrenamiento, y 20% es para la fase de prueba."
   ]
  },
  {
   "cell_type": "markdown",
   "metadata": {},
   "source": [
    "##### 2.1.6.1 Normalizamos el X_test que es el 20% separado a un incio:"
   ]
  },
  {
   "cell_type": "code",
   "execution_count": 65,
   "metadata": {},
   "outputs": [],
   "source": [
    "X_norm_test_SR = (X_testSR- mu_SR) / sigma_SR"
   ]
  },
  {
   "cell_type": "markdown",
   "metadata": {},
   "source": [
    "##### 2.1.6.2 Concadenamos unos a matriz X normalizado del test:"
   ]
  },
  {
   "cell_type": "code",
   "execution_count": 66,
   "metadata": {},
   "outputs": [
    {
     "name": "stdout",
     "output_type": "stream",
     "text": [
      "  X[:,0] X[:, 1]   X[:, 2]   X[:, 3] X[:, 4] X[:, 5] X[:, 6] X[:, 7]X[:, 8]   X[:, 9]  X[:, 10]  X[:, 11]\n",
      "--------------------------------------------------------------------------------------------------------------\n",
      "   1.000   1.086    -0.667    -1.617  -1.566  -1.424   1.152  -0.060   0.837    -1.631   1.018   0.304\n",
      "   1.000   0.410     1.226    -0.440  -0.224   1.146   0.375  -1.485   1.430     0.820   0.425   1.475\n",
      "   1.000  -0.985     0.364    -0.385   1.587  -0.274   0.763   0.347   1.087     1.155   0.072   0.890\n",
      "   1.000   0.971     0.761    -0.049  -0.807   1.630  -1.567  -0.670  -1.618    -1.645   0.160  -0.868\n",
      "   1.000   1.558    -0.745    -1.640  -1.110   0.805   0.375  -1.349   1.592     1.339  -0.539  -1.454\n",
      "   1.000  -0.054     0.938    -0.783   1.225  -1.412   0.375   1.365   1.111    -0.349   1.678   0.304\n",
      "   1.000   0.306    -1.684    -0.531   0.818   1.465  -0.402   0.076   0.427    -0.212  -1.712  -0.868\n",
      "   1.000  -0.523     0.419    -1.608  -0.880   1.047   0.763  -0.738   1.370    -0.122   0.999   1.475\n",
      "   1.000   0.471     1.743     0.461  -0.804  -0.023  -1.178  -0.806   0.633    -0.046   1.706   1.475\n",
      "   1.000   0.413    -0.431     0.154   0.654  -0.011  -0.013   0.483  -0.424    -0.480   0.182  -0.868\n"
     ]
    }
   ],
   "source": [
    "X_test_ready_SR = np.concatenate([np.ones((m_test_SR, 1)), X_norm_test_SR], axis=1)\n",
    "\n",
    "# imprimir todos las X_norm de datos solo 10\n",
    "print('{:>8s}{:>8s}{:>10s}{:>10s}{:>8s}{:>8s}{:>8s}{:>8s}{:>6s}{:>10s}{:>10s}{:>10s}'.format(\n",
    "    'X[:,0]', 'X[:, 1]', 'X[:, 2]', 'X[:, 3]', 'X[:, 4]', 'X[:, 5]', 'X[:, 6]', 'X[:, 7]', 'X[:, 8]', 'X[:, 9]', 'X[:, 10]', 'X[:, 11]'\n",
    "))\n",
    "print('-' * 110)\n",
    "\n",
    "for i in range(10):\n",
    "    print('{:8.3f}{:8.3f}{:10.3f}{:10.3f}{:8.3f}{:8.3f}{:8.3f}{:8.3f}{:8.3f}{:10.3f}{:8.3f}{:8.3f}'.format(\n",
    "    X_test_ready_SR[i, 0],\n",
    "    X_test_ready_SR[i, 1],\n",
    "    X_test_ready_SR[i, 2],\n",
    "    X_test_ready_SR[i, 3], \n",
    "    X_test_ready_SR[i, 4],\n",
    "    X_test_ready_SR[i, 5], \n",
    "    X_test_ready_SR[i, 6],\n",
    "    X_test_ready_SR[i, 7], \n",
    "    X_test_ready_SR[i, 8], \n",
    "    X_test_ready_SR[i, 9], \n",
    "    X_test_ready_SR[i, 10], \n",
    "    X_test_ready_SR[i, 11]\n",
    "    ))"
   ]
  },
  {
   "cell_type": "markdown",
   "metadata": {},
   "source": [
    "##### 2.1.6.3 Hacemos el calculo de Y predicha "
   ]
  },
  {
   "cell_type": "code",
   "execution_count": 67,
   "metadata": {},
   "outputs": [
    {
     "name": "stdout",
     "output_type": "stream",
     "text": [
      "  X[:,0] X[:, 1]   X[:, 2]   X[:, 3] X[:, 4] X[:, 5] X[:, 6] X[:, 7]X[:, 8]   X[:, 9]  X[:, 10]  X[:, 11]         y     (y) usando el umbral\n",
      "--------------------------------------------------------------------------------------------------------------------------------------------\n",
      "   1.000   1.086    -0.667    -1.617  -1.566  -1.424   1.152  -0.060   0.837    -1.631   1.018   0.304           0.50              0\n",
      "   1.000   0.410     1.226    -0.440  -0.224   1.146   0.375  -1.485   1.430     0.820   0.425   1.475           0.49              0\n",
      "   1.000  -0.985     0.364    -0.385   1.587  -0.274   0.763   0.347   1.087     1.155   0.072   0.890           0.50              1\n",
      "   1.000   0.971     0.761    -0.049  -0.807   1.630  -1.567  -0.670  -1.618    -1.645   0.160  -0.868           0.49              0\n",
      "   1.000   1.558    -0.745    -1.640  -1.110   0.805   0.375  -1.349   1.592     1.339  -0.539  -1.454           0.48              0\n",
      "   1.000  -0.054     0.938    -0.783   1.225  -1.412   0.375   1.365   1.111    -0.349   1.678   0.304           0.51              1\n",
      "   1.000   0.306    -1.684    -0.531   0.818   1.465  -0.402   0.076   0.427    -0.212  -1.712  -0.868           0.50              0\n",
      "   1.000  -0.523     0.419    -1.608  -0.880   1.047   0.763  -0.738   1.370    -0.122   0.999   1.475           0.50              0\n",
      "   1.000   0.471     1.743     0.461  -0.804  -0.023  -1.178  -0.806   0.633    -0.046   1.706   1.475           0.49              0\n",
      "   1.000   0.413    -0.431     0.154   0.654  -0.011  -0.013   0.483  -0.424    -0.480   0.182  -0.868           0.50              1\n"
     ]
    }
   ],
   "source": [
    "y_predicha_SR =[]\n",
    "# Calculamos la Y predicha de cada fila de la matriz\n",
    "for dato in X_test_ready_SR:\n",
    "    y_predicha_SR.append(sigmoid(np.dot(dato, theta_SR.T)))\n",
    "\n",
    "# Convertimos la lista a un array unidimensional\n",
    "y_predicha_SR = np.array(y_predicha_SR)\n",
    "\n",
    "#usando el umbral donde todo aquello que sea >= 0.5 sera 1, y si es menor sera 0\n",
    "y_umbral_SR = (y_predicha_SR >= 0.5).astype(int)\n",
    "\n",
    "# imprimir todos las X_norm de datos solo 10\n",
    "print('{:>8s}{:>8s}{:>10s}{:>10s}{:>8s}{:>8s}{:>8s}{:>8s}{:>6s}{:>10s}{:>10s}{:>10s}{:>10s}{:>25s}'.format(\n",
    "    'X[:,0]', 'X[:, 1]', 'X[:, 2]', 'X[:, 3]', 'X[:, 4]', 'X[:, 5]', 'X[:, 6]', 'X[:, 7]', 'X[:, 8]', 'X[:, 9]', 'X[:, 10]', 'X[:, 11]','y','(y) usando el umbral'\n",
    "))\n",
    "print('-' * 140)\n",
    "\n",
    "#Mostrando algunos datos\n",
    "for i in range(10):\n",
    "    print('{:8.3f}{:8.3f}{:10.3f}{:10.3f}{:8.3f}{:8.3f}{:8.3f}{:8.3f}{:8.3f}{:10.3f}{:8.3f}{:8.3f}{:15.2f}{:15.0f}'.format(\n",
    "    X_test_ready_SR[i, 0],\n",
    "    X_test_ready_SR[i, 1], \n",
    "    X_test_ready_SR[i, 2], \n",
    "    X_test_ready_SR[i, 3],\n",
    "    X_test_ready_SR[i, 4], \n",
    "    X_test_ready_SR[i, 5], \n",
    "    X_test_ready_SR[i, 6],\n",
    "    X_test_ready_SR[i, 7], \n",
    "    X_test_ready_SR[i, 8], \n",
    "    X_test_ready_SR[i, 9], \n",
    "    X_test_ready_SR[i, 10],\n",
    "    X_test_ready_SR[i, 11], \n",
    "    y_predicha_CR[i], \n",
    "    y_umbral_CR[i]\n",
    "    ))"
   ]
  },
  {
   "cell_type": "markdown",
   "metadata": {},
   "source": [
    "##### 1.1.6.4 Calculando la precision del entrenamiento:\n",
    "se hace uso del **np.mean**, Calcula la media (promedio) de los valores booleanos. Dado que True se interpreta como 1 y False como 0 en operaciones aritméticas, la media resultante será la proporción de elementos iguales en **y_predicha** e **y_test**."
   ]
  },
  {
   "cell_type": "code",
   "execution_count": 68,
   "metadata": {},
   "outputs": [
    {
     "name": "stdout",
     "output_type": "stream",
     "text": [
      "Precisión de entrenamiento: 50.45455 %\n"
     ]
    }
   ],
   "source": [
    "print('Precisión de entrenamiento: {:.5f} %'.format(np.mean(y_umbral_SR == y_testSR) * 100))"
   ]
  },
  {
   "cell_type": "markdown",
   "metadata": {},
   "source": [
    "## Conclusiones\n",
    "\n",
    "En esta parte se presentaran las conclusiones de acuerdo a las experiencias vistas en este laboratorio aplicando regularizacion y sin aplicar regularizacion."
   ]
  },
  {
   "cell_type": "markdown",
   "metadata": {},
   "source": [
    "##### 1. Impacto de la regularización en la precisión del modelo:\n",
    "\n",
    " Se observa que la regularización puede tener un efecto en la precisión del modelo. En algunos casos, la regularización puede mejorar la precisión del modelo al reducir el sobreajuste (overfitting),\n",
    " especialmente cuando se tienen conjuntos de datos pequeños o altamente ruidosos. \n",
    " \n",
    " Sin embargo, en conjuntos de datos más grandes o con menos ruido, la regularización puede no proporcionar mejoras significativas en la precisión y podría incluso degradarla.\n",
    "\n",
    " Para este caso se hizo la comparacion entre la preciscion de ambos modelos, con y sin regularizacion:\n",
    "\n",
    "| Modelo  | Precision del modelo con regularizacion| Presicion del modelo sin regularizacion| Dieferencia entre ambos|\n",
    "|---------|------|---------|-----------|\n",
    "| Regresion Logistica | 50.47619 %  | 50.45455 % | 0.02164 % |\n",
    "\n",
    "Se puede notar que la diferencia entre ambos es poca, pero se puede notar que la precision del modelo con regularizar es un poco mas alta que su contraparte, pero esto nos da una idea que que al aplicar regularizacion la presicion llega a aumentar."
   ]
  }
 ],
 "metadata": {
  "kernelspec": {
   "display_name": "Python 3",
   "language": "python",
   "name": "python3"
  },
  "language_info": {
   "codemirror_mode": {
    "name": "ipython",
    "version": 3
   },
   "file_extension": ".py",
   "mimetype": "text/x-python",
   "name": "python",
   "nbconvert_exporter": "python",
   "pygments_lexer": "ipython3",
   "version": "3.11.8"
  }
 },
 "nbformat": 4,
 "nbformat_minor": 2
}
