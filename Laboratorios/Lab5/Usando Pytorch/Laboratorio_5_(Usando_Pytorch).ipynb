{
  "cells": [
    {
      "cell_type": "markdown",
      "metadata": {
        "colab_type": "text",
        "id": "view-in-github"
      },
      "source": [
        "<a href=\"https://colab.research.google.com/github/bspoloo/SIS420-012024/blob/main/Laboratorios/Laboratorio%205/Laboratorio_5_(Usando_Pytorch).ipynb\" target=\"_parent\"><img src=\"https://colab.research.google.com/assets/colab-badge.svg\" alt=\"Open In Colab\"/></a>"
      ]
    },
    {
      "cell_type": "markdown",
      "metadata": {
        "id": "izqXgpih5MF2"
      },
      "source": [
        "Importamos la librerias necesarias:"
      ]
    },
    {
      "cell_type": "code",
      "execution_count": 4,
      "metadata": {
        "id": "RrkbuyYDXlPk",
        "metadata": {}
      },
      "outputs": [],
      "source": [
        "# Used for directory and path manipulation\n",
        "import os\n",
        "# Scientific and vector computation for Python\n",
        "import numpy as np\n",
        "# Library for graphics\n",
        "from matplotlib import pyplot as plt\n",
        "#Para separa el 20% y 80%\n",
        "from sklearn.model_selection import train_test_split\n",
        "import pandas as pd\n",
        "\n",
        "import torch\n",
        "from torch import optim  # Para optimizadores como SGD, Adam, etc.\n",
        "from torch import nn  # Todos los módulos de redes neuronales\n",
        "from torch.utils.data import DataLoader  # Facilita la gestión de conjuntos de datos creando mini lotes, etc.\n",
        "\n",
        "import torchvision  # Paquete torch para cosas relacionadas con la visión\n",
        "import torchvision.transforms as transforms  # Transformaciones que podemos realizar en nuestro conjunto de datos para aumentar\n",
        "import torch.nn.functional as F  # Funciones sin parámetros, como (algunas) funciones de activación\n",
        "import torchvision.datasets as datasets  # Conjuntos de datos estándar\n",
        "from tqdm import tqdm  # ¡Para una barra de progreso agradable!\n",
        "from torch.utils.data import Dataset\n",
        "\n",
        "# Le dice a matplotlib que incruste gráficos en el cuaderno\n",
        "%matplotlib inline"
      ]
    },
    {
      "cell_type": "markdown",
      "metadata": {
        "id": "50iXi-kG50pG"
      },
      "source": [
        "## Red neuronal (Pytorch)\n",
        "\n",
        "### Cargamos los datos del dataset\n"
      ]
    },
    {
      "cell_type": "code",
      "execution_count": 5,
      "metadata": {
        "colab": {
          "base_uri": "https://localhost:8080/",
          "height": 444
        },
        "id": "XXzmvw125_0t",
        "metadata": {},
        "outputId": "04fdef6c-b307-413b-f20a-8457738895aa"
      },
      "outputs": [
        {
          "data": {
            "text/html": [
              "<div>\n",
              "<style scoped>\n",
              "    .dataframe tbody tr th:only-of-type {\n",
              "        vertical-align: middle;\n",
              "    }\n",
              "\n",
              "    .dataframe tbody tr th {\n",
              "        vertical-align: top;\n",
              "    }\n",
              "\n",
              "    .dataframe thead th {\n",
              "        text-align: right;\n",
              "    }\n",
              "</style>\n",
              "<table border=\"1\" class=\"dataframe\">\n",
              "  <thead>\n",
              "    <tr style=\"text-align: right;\">\n",
              "      <th></th>\n",
              "      <th>BodyLength</th>\n",
              "      <th>Wingspan</th>\n",
              "      <th>Weight</th>\n",
              "      <th>PlumageColorHead</th>\n",
              "      <th>PlumageColorBack</th>\n",
              "      <th>PlumageColorBelly</th>\n",
              "      <th>PlumageColorWings</th>\n",
              "      <th>PlumageColorTail</th>\n",
              "      <th>BeakLength</th>\n",
              "      <th>BeakWidth</th>\n",
              "      <th>...</th>\n",
              "      <th>SeedDispersalRole</th>\n",
              "      <th>InterspecificInteraction</th>\n",
              "      <th>IntraspecificInteraction</th>\n",
              "      <th>LearningAbility</th>\n",
              "      <th>ToolUse</th>\n",
              "      <th>ParentalCareLevel</th>\n",
              "      <th>BathingBehavior</th>\n",
              "      <th>GroomingBehavior</th>\n",
              "      <th>FlightSpeed</th>\n",
              "      <th>SpeciesClass</th>\n",
              "    </tr>\n",
              "  </thead>\n",
              "  <tbody>\n",
              "    <tr>\n",
              "      <th>0</th>\n",
              "      <td>5.210</td>\n",
              "      <td>9.746</td>\n",
              "      <td>5.815</td>\n",
              "      <td>8.831</td>\n",
              "      <td>1.580</td>\n",
              "      <td>2.257</td>\n",
              "      <td>6.399</td>\n",
              "      <td>3.746</td>\n",
              "      <td>7.541</td>\n",
              "      <td>4.286</td>\n",
              "      <td>...</td>\n",
              "      <td>8.122</td>\n",
              "      <td>7.139</td>\n",
              "      <td>3.319</td>\n",
              "      <td>0.045</td>\n",
              "      <td>4.456</td>\n",
              "      <td>7.167</td>\n",
              "      <td>7.826</td>\n",
              "      <td>7.316</td>\n",
              "      <td>4.245</td>\n",
              "      <td>4</td>\n",
              "    </tr>\n",
              "    <tr>\n",
              "      <th>1</th>\n",
              "      <td>2.275</td>\n",
              "      <td>2.496</td>\n",
              "      <td>6.104</td>\n",
              "      <td>1.692</td>\n",
              "      <td>0.856</td>\n",
              "      <td>2.056</td>\n",
              "      <td>0.110</td>\n",
              "      <td>1.277</td>\n",
              "      <td>8.491</td>\n",
              "      <td>5.665</td>\n",
              "      <td>...</td>\n",
              "      <td>6.354</td>\n",
              "      <td>7.772</td>\n",
              "      <td>6.739</td>\n",
              "      <td>2.824</td>\n",
              "      <td>5.807</td>\n",
              "      <td>2.852</td>\n",
              "      <td>3.478</td>\n",
              "      <td>6.132</td>\n",
              "      <td>4.471</td>\n",
              "      <td>4</td>\n",
              "    </tr>\n",
              "    <tr>\n",
              "      <th>2</th>\n",
              "      <td>5.927</td>\n",
              "      <td>1.357</td>\n",
              "      <td>5.936</td>\n",
              "      <td>9.536</td>\n",
              "      <td>1.820</td>\n",
              "      <td>7.886</td>\n",
              "      <td>8.658</td>\n",
              "      <td>4.401</td>\n",
              "      <td>5.786</td>\n",
              "      <td>1.107</td>\n",
              "      <td>...</td>\n",
              "      <td>2.389</td>\n",
              "      <td>3.796</td>\n",
              "      <td>3.149</td>\n",
              "      <td>5.075</td>\n",
              "      <td>4.251</td>\n",
              "      <td>4.682</td>\n",
              "      <td>0.966</td>\n",
              "      <td>9.572</td>\n",
              "      <td>9.364</td>\n",
              "      <td>5</td>\n",
              "    </tr>\n",
              "    <tr>\n",
              "      <th>3</th>\n",
              "      <td>6.022</td>\n",
              "      <td>6.402</td>\n",
              "      <td>3.772</td>\n",
              "      <td>2.884</td>\n",
              "      <td>8.638</td>\n",
              "      <td>4.623</td>\n",
              "      <td>2.129</td>\n",
              "      <td>1.352</td>\n",
              "      <td>9.475</td>\n",
              "      <td>8.545</td>\n",
              "      <td>...</td>\n",
              "      <td>8.634</td>\n",
              "      <td>8.433</td>\n",
              "      <td>0.997</td>\n",
              "      <td>6.761</td>\n",
              "      <td>4.675</td>\n",
              "      <td>4.749</td>\n",
              "      <td>6.081</td>\n",
              "      <td>6.774</td>\n",
              "      <td>4.162</td>\n",
              "      <td>3</td>\n",
              "    </tr>\n",
              "    <tr>\n",
              "      <th>4</th>\n",
              "      <td>7.816</td>\n",
              "      <td>8.374</td>\n",
              "      <td>0.155</td>\n",
              "      <td>4.262</td>\n",
              "      <td>8.726</td>\n",
              "      <td>2.452</td>\n",
              "      <td>1.046</td>\n",
              "      <td>7.110</td>\n",
              "      <td>5.689</td>\n",
              "      <td>0.559</td>\n",
              "      <td>...</td>\n",
              "      <td>8.851</td>\n",
              "      <td>3.259</td>\n",
              "      <td>3.426</td>\n",
              "      <td>0.555</td>\n",
              "      <td>6.317</td>\n",
              "      <td>2.686</td>\n",
              "      <td>8.380</td>\n",
              "      <td>9.903</td>\n",
              "      <td>3.365</td>\n",
              "      <td>4</td>\n",
              "    </tr>\n",
              "    <tr>\n",
              "      <th>...</th>\n",
              "      <td>...</td>\n",
              "      <td>...</td>\n",
              "      <td>...</td>\n",
              "      <td>...</td>\n",
              "      <td>...</td>\n",
              "      <td>...</td>\n",
              "      <td>...</td>\n",
              "      <td>...</td>\n",
              "      <td>...</td>\n",
              "      <td>...</td>\n",
              "      <td>...</td>\n",
              "      <td>...</td>\n",
              "      <td>...</td>\n",
              "      <td>...</td>\n",
              "      <td>...</td>\n",
              "      <td>...</td>\n",
              "      <td>...</td>\n",
              "      <td>...</td>\n",
              "      <td>...</td>\n",
              "      <td>...</td>\n",
              "      <td>...</td>\n",
              "    </tr>\n",
              "    <tr>\n",
              "      <th>24995</th>\n",
              "      <td>1.254</td>\n",
              "      <td>7.149</td>\n",
              "      <td>2.825</td>\n",
              "      <td>7.918</td>\n",
              "      <td>9.555</td>\n",
              "      <td>0.723</td>\n",
              "      <td>3.481</td>\n",
              "      <td>6.203</td>\n",
              "      <td>4.350</td>\n",
              "      <td>9.535</td>\n",
              "      <td>...</td>\n",
              "      <td>3.927</td>\n",
              "      <td>7.693</td>\n",
              "      <td>8.008</td>\n",
              "      <td>4.772</td>\n",
              "      <td>4.679</td>\n",
              "      <td>8.625</td>\n",
              "      <td>3.468</td>\n",
              "      <td>5.593</td>\n",
              "      <td>1.138</td>\n",
              "      <td>1</td>\n",
              "    </tr>\n",
              "    <tr>\n",
              "      <th>24996</th>\n",
              "      <td>0.839</td>\n",
              "      <td>2.453</td>\n",
              "      <td>3.707</td>\n",
              "      <td>4.084</td>\n",
              "      <td>1.251</td>\n",
              "      <td>6.908</td>\n",
              "      <td>3.673</td>\n",
              "      <td>7.989</td>\n",
              "      <td>7.169</td>\n",
              "      <td>8.058</td>\n",
              "      <td>...</td>\n",
              "      <td>7.228</td>\n",
              "      <td>8.552</td>\n",
              "      <td>5.511</td>\n",
              "      <td>4.374</td>\n",
              "      <td>7.875</td>\n",
              "      <td>2.748</td>\n",
              "      <td>5.159</td>\n",
              "      <td>5.037</td>\n",
              "      <td>6.991</td>\n",
              "      <td>0</td>\n",
              "    </tr>\n",
              "    <tr>\n",
              "      <th>24997</th>\n",
              "      <td>5.660</td>\n",
              "      <td>3.032</td>\n",
              "      <td>2.401</td>\n",
              "      <td>6.968</td>\n",
              "      <td>2.762</td>\n",
              "      <td>3.947</td>\n",
              "      <td>8.953</td>\n",
              "      <td>3.312</td>\n",
              "      <td>9.513</td>\n",
              "      <td>3.842</td>\n",
              "      <td>...</td>\n",
              "      <td>2.864</td>\n",
              "      <td>0.291</td>\n",
              "      <td>8.553</td>\n",
              "      <td>2.014</td>\n",
              "      <td>6.728</td>\n",
              "      <td>6.666</td>\n",
              "      <td>3.479</td>\n",
              "      <td>4.143</td>\n",
              "      <td>6.778</td>\n",
              "      <td>1</td>\n",
              "    </tr>\n",
              "    <tr>\n",
              "      <th>24998</th>\n",
              "      <td>3.230</td>\n",
              "      <td>4.500</td>\n",
              "      <td>6.235</td>\n",
              "      <td>2.701</td>\n",
              "      <td>2.794</td>\n",
              "      <td>8.908</td>\n",
              "      <td>6.133</td>\n",
              "      <td>3.766</td>\n",
              "      <td>8.113</td>\n",
              "      <td>0.095</td>\n",
              "      <td>...</td>\n",
              "      <td>1.340</td>\n",
              "      <td>5.766</td>\n",
              "      <td>7.622</td>\n",
              "      <td>9.077</td>\n",
              "      <td>3.040</td>\n",
              "      <td>6.313</td>\n",
              "      <td>7.400</td>\n",
              "      <td>1.990</td>\n",
              "      <td>2.240</td>\n",
              "      <td>2</td>\n",
              "    </tr>\n",
              "    <tr>\n",
              "      <th>24999</th>\n",
              "      <td>1.668</td>\n",
              "      <td>6.019</td>\n",
              "      <td>4.042</td>\n",
              "      <td>3.841</td>\n",
              "      <td>0.800</td>\n",
              "      <td>8.178</td>\n",
              "      <td>4.550</td>\n",
              "      <td>3.264</td>\n",
              "      <td>5.055</td>\n",
              "      <td>6.935</td>\n",
              "      <td>...</td>\n",
              "      <td>8.675</td>\n",
              "      <td>8.046</td>\n",
              "      <td>5.347</td>\n",
              "      <td>6.489</td>\n",
              "      <td>4.881</td>\n",
              "      <td>3.987</td>\n",
              "      <td>7.492</td>\n",
              "      <td>3.182</td>\n",
              "      <td>8.593</td>\n",
              "      <td>2</td>\n",
              "    </tr>\n",
              "  </tbody>\n",
              "</table>\n",
              "<p>25000 rows × 61 columns</p>\n",
              "</div>"
            ],
            "text/plain": [
              "       BodyLength  Wingspan  Weight  PlumageColorHead  PlumageColorBack  \\\n",
              "0           5.210     9.746   5.815             8.831             1.580   \n",
              "1           2.275     2.496   6.104             1.692             0.856   \n",
              "2           5.927     1.357   5.936             9.536             1.820   \n",
              "3           6.022     6.402   3.772             2.884             8.638   \n",
              "4           7.816     8.374   0.155             4.262             8.726   \n",
              "...           ...       ...     ...               ...               ...   \n",
              "24995       1.254     7.149   2.825             7.918             9.555   \n",
              "24996       0.839     2.453   3.707             4.084             1.251   \n",
              "24997       5.660     3.032   2.401             6.968             2.762   \n",
              "24998       3.230     4.500   6.235             2.701             2.794   \n",
              "24999       1.668     6.019   4.042             3.841             0.800   \n",
              "\n",
              "       PlumageColorBelly  PlumageColorWings  PlumageColorTail  BeakLength  \\\n",
              "0                  2.257              6.399             3.746       7.541   \n",
              "1                  2.056              0.110             1.277       8.491   \n",
              "2                  7.886              8.658             4.401       5.786   \n",
              "3                  4.623              2.129             1.352       9.475   \n",
              "4                  2.452              1.046             7.110       5.689   \n",
              "...                  ...                ...               ...         ...   \n",
              "24995              0.723              3.481             6.203       4.350   \n",
              "24996              6.908              3.673             7.989       7.169   \n",
              "24997              3.947              8.953             3.312       9.513   \n",
              "24998              8.908              6.133             3.766       8.113   \n",
              "24999              8.178              4.550             3.264       5.055   \n",
              "\n",
              "       BeakWidth  ...  SeedDispersalRole  InterspecificInteraction  \\\n",
              "0          4.286  ...              8.122                     7.139   \n",
              "1          5.665  ...              6.354                     7.772   \n",
              "2          1.107  ...              2.389                     3.796   \n",
              "3          8.545  ...              8.634                     8.433   \n",
              "4          0.559  ...              8.851                     3.259   \n",
              "...          ...  ...                ...                       ...   \n",
              "24995      9.535  ...              3.927                     7.693   \n",
              "24996      8.058  ...              7.228                     8.552   \n",
              "24997      3.842  ...              2.864                     0.291   \n",
              "24998      0.095  ...              1.340                     5.766   \n",
              "24999      6.935  ...              8.675                     8.046   \n",
              "\n",
              "       IntraspecificInteraction  LearningAbility  ToolUse  ParentalCareLevel  \\\n",
              "0                         3.319            0.045    4.456              7.167   \n",
              "1                         6.739            2.824    5.807              2.852   \n",
              "2                         3.149            5.075    4.251              4.682   \n",
              "3                         0.997            6.761    4.675              4.749   \n",
              "4                         3.426            0.555    6.317              2.686   \n",
              "...                         ...              ...      ...                ...   \n",
              "24995                     8.008            4.772    4.679              8.625   \n",
              "24996                     5.511            4.374    7.875              2.748   \n",
              "24997                     8.553            2.014    6.728              6.666   \n",
              "24998                     7.622            9.077    3.040              6.313   \n",
              "24999                     5.347            6.489    4.881              3.987   \n",
              "\n",
              "       BathingBehavior  GroomingBehavior  FlightSpeed  SpeciesClass  \n",
              "0                7.826             7.316        4.245             4  \n",
              "1                3.478             6.132        4.471             4  \n",
              "2                0.966             9.572        9.364             5  \n",
              "3                6.081             6.774        4.162             3  \n",
              "4                8.380             9.903        3.365             4  \n",
              "...                ...               ...          ...           ...  \n",
              "24995            3.468             5.593        1.138             1  \n",
              "24996            5.159             5.037        6.991             0  \n",
              "24997            3.479             4.143        6.778             1  \n",
              "24998            7.400             1.990        2.240             2  \n",
              "24999            7.492             3.182        8.593             2  \n",
              "\n",
              "[25000 rows x 61 columns]"
            ]
          },
          "execution_count": 5,
          "metadata": {},
          "output_type": "execute_result"
        }
      ],
      "source": [
        "dataset = pd.read_csv('BirdSpecies_dataset.csv', delimiter=',')\n",
        "\n",
        "# dataset = pd.read_csv('csgo_round_snapshots.csv', delimiter=',')\n",
        "\n",
        "#para usarlo a travez de google colab\n",
        "# dataset = dataset.sample(n=20000, random_state=42)\n",
        "\n",
        "dataset"
      ]
    },
    {
      "cell_type": "markdown",
      "metadata": {
        "id": "4x8XJFke6ksX"
      },
      "source": [
        "### Analisis del dataset\n",
        "\n",
        "para tener una mejor vista del los tipos de datos del dataset, hacemos un `info()`:"
      ]
    },
    {
      "cell_type": "code",
      "execution_count": 6,
      "metadata": {
        "colab": {
          "base_uri": "https://localhost:8080/"
        },
        "id": "NJxPmbg56mlm",
        "metadata": {},
        "outputId": "b44bd541-2945-4612-b527-9f02f021bd1a"
      },
      "outputs": [
        {
          "name": "stdout",
          "output_type": "stream",
          "text": [
            "<class 'pandas.core.frame.DataFrame'>\n",
            "RangeIndex: 25000 entries, 0 to 24999\n",
            "Data columns (total 61 columns):\n",
            " #   Column                    Non-Null Count  Dtype  \n",
            "---  ------                    --------------  -----  \n",
            " 0   BodyLength                25000 non-null  float64\n",
            " 1   Wingspan                  25000 non-null  float64\n",
            " 2   Weight                    25000 non-null  float64\n",
            " 3   PlumageColorHead          25000 non-null  float64\n",
            " 4   PlumageColorBack          25000 non-null  float64\n",
            " 5   PlumageColorBelly         25000 non-null  float64\n",
            " 6   PlumageColorWings         25000 non-null  float64\n",
            " 7   PlumageColorTail          25000 non-null  float64\n",
            " 8   BeakLength                25000 non-null  float64\n",
            " 9   BeakWidth                 25000 non-null  float64\n",
            " 10  BeakShape                 25000 non-null  float64\n",
            " 11  BeakColor                 25000 non-null  float64\n",
            " 12  LegLength                 25000 non-null  float64\n",
            " 13  LegColor                  25000 non-null  float64\n",
            " 14  FootType                  25000 non-null  float64\n",
            " 15  EyeColor                  25000 non-null  float64\n",
            " 16  DietType                  25000 non-null  float64\n",
            " 17  FeedingBehavior           25000 non-null  float64\n",
            " 18  PreferredHabitat          25000 non-null  float64\n",
            " 19  GeographicalRange         25000 non-null  float64\n",
            " 20  MigratoryBehavior         25000 non-null  float64\n",
            " 21  BreedingSeason            25000 non-null  float64\n",
            " 22  NestType                  25000 non-null  float64\n",
            " 23  ClutchSize                25000 non-null  float64\n",
            " 24  EggColor                  25000 non-null  float64\n",
            " 25  IncubationPeriod          25000 non-null  float64\n",
            " 26  FledglingPeriod           25000 non-null  float64\n",
            " 27  SocialBehavior            25000 non-null  float64\n",
            " 28  FlightPattern             25000 non-null  float64\n",
            " 29  VocalizationType          25000 non-null  float64\n",
            " 30  SoundFrequency            25000 non-null  float64\n",
            " 31  TypicalActivityPeriod     25000 non-null  float64\n",
            " 32  Predators                 25000 non-null  float64\n",
            " 33  Lifespan                  25000 non-null  float64\n",
            " 34  SexualDimorphism          25000 non-null  float64\n",
            " 35  MoltFrequency             25000 non-null  float64\n",
            " 36  TarsusLength              25000 non-null  float64\n",
            " 37  WingShape                 25000 non-null  float64\n",
            " 38  TailShape                 25000 non-null  float64\n",
            " 39  ConservationStatus        25000 non-null  float64\n",
            " 40  TerritorialBehavior       25000 non-null  float64\n",
            " 41  MigrationDistance         25000 non-null  float64\n",
            " 42  ForagingHeight            25000 non-null  float64\n",
            " 43  WaterDependency           25000 non-null  float64\n",
            " 44  TemperaturePreference     25000 non-null  float64\n",
            " 45  ColorVision               25000 non-null  object \n",
            " 46  NocturnalVision           25000 non-null  object \n",
            " 47  HearingAcuity             25000 non-null  float64\n",
            " 48  OlfactoryAcuity           25000 non-null  float64\n",
            " 49  TouchSensitivity          25000 non-null  float64\n",
            " 50  PollinationRole           25000 non-null  float64\n",
            " 51  SeedDispersalRole         25000 non-null  float64\n",
            " 52  InterspecificInteraction  25000 non-null  float64\n",
            " 53  IntraspecificInteraction  25000 non-null  float64\n",
            " 54  LearningAbility           25000 non-null  float64\n",
            " 55  ToolUse                   25000 non-null  float64\n",
            " 56  ParentalCareLevel         25000 non-null  float64\n",
            " 57  BathingBehavior           25000 non-null  float64\n",
            " 58  GroomingBehavior          25000 non-null  float64\n",
            " 59  FlightSpeed               25000 non-null  float64\n",
            " 60  SpeciesClass              25000 non-null  int64  \n",
            "dtypes: float64(58), int64(1), object(2)\n",
            "memory usage: 11.6+ MB\n"
          ]
        }
      ],
      "source": [
        "dataset.info()"
      ]
    },
    {
      "cell_type": "markdown",
      "metadata": {
        "id": "Bh4hiPGO6zZW"
      },
      "source": [
        "Se puede observar que hay columnas con datos que no son numeros, por lo tanto se procede a tratarlos:"
      ]
    },
    {
      "cell_type": "code",
      "execution_count": 7,
      "metadata": {
        "metadata": {}
      },
      "outputs": [
        {
          "data": {
            "text/html": [
              "<div>\n",
              "<style scoped>\n",
              "    .dataframe tbody tr th:only-of-type {\n",
              "        vertical-align: middle;\n",
              "    }\n",
              "\n",
              "    .dataframe tbody tr th {\n",
              "        vertical-align: top;\n",
              "    }\n",
              "\n",
              "    .dataframe thead th {\n",
              "        text-align: right;\n",
              "    }\n",
              "</style>\n",
              "<table border=\"1\" class=\"dataframe\">\n",
              "  <thead>\n",
              "    <tr style=\"text-align: right;\">\n",
              "      <th></th>\n",
              "      <th>BodyLength</th>\n",
              "      <th>Wingspan</th>\n",
              "      <th>Weight</th>\n",
              "      <th>PlumageColorHead</th>\n",
              "      <th>PlumageColorBack</th>\n",
              "      <th>PlumageColorBelly</th>\n",
              "      <th>PlumageColorWings</th>\n",
              "      <th>PlumageColorTail</th>\n",
              "      <th>BeakLength</th>\n",
              "      <th>BeakWidth</th>\n",
              "      <th>...</th>\n",
              "      <th>SeedDispersalRole</th>\n",
              "      <th>InterspecificInteraction</th>\n",
              "      <th>IntraspecificInteraction</th>\n",
              "      <th>LearningAbility</th>\n",
              "      <th>ToolUse</th>\n",
              "      <th>ParentalCareLevel</th>\n",
              "      <th>BathingBehavior</th>\n",
              "      <th>GroomingBehavior</th>\n",
              "      <th>FlightSpeed</th>\n",
              "      <th>SpeciesClass</th>\n",
              "    </tr>\n",
              "  </thead>\n",
              "  <tbody>\n",
              "    <tr>\n",
              "      <th>0</th>\n",
              "      <td>5.210</td>\n",
              "      <td>9.746</td>\n",
              "      <td>5.815</td>\n",
              "      <td>8.831</td>\n",
              "      <td>1.580</td>\n",
              "      <td>2.257</td>\n",
              "      <td>6.399</td>\n",
              "      <td>3.746</td>\n",
              "      <td>7.541</td>\n",
              "      <td>4.286</td>\n",
              "      <td>...</td>\n",
              "      <td>8.122</td>\n",
              "      <td>7.139</td>\n",
              "      <td>3.319</td>\n",
              "      <td>0.045</td>\n",
              "      <td>4.456</td>\n",
              "      <td>7.167</td>\n",
              "      <td>7.826</td>\n",
              "      <td>7.316</td>\n",
              "      <td>4.245</td>\n",
              "      <td>4</td>\n",
              "    </tr>\n",
              "    <tr>\n",
              "      <th>1</th>\n",
              "      <td>2.275</td>\n",
              "      <td>2.496</td>\n",
              "      <td>6.104</td>\n",
              "      <td>1.692</td>\n",
              "      <td>0.856</td>\n",
              "      <td>2.056</td>\n",
              "      <td>0.110</td>\n",
              "      <td>1.277</td>\n",
              "      <td>8.491</td>\n",
              "      <td>5.665</td>\n",
              "      <td>...</td>\n",
              "      <td>6.354</td>\n",
              "      <td>7.772</td>\n",
              "      <td>6.739</td>\n",
              "      <td>2.824</td>\n",
              "      <td>5.807</td>\n",
              "      <td>2.852</td>\n",
              "      <td>3.478</td>\n",
              "      <td>6.132</td>\n",
              "      <td>4.471</td>\n",
              "      <td>4</td>\n",
              "    </tr>\n",
              "    <tr>\n",
              "      <th>2</th>\n",
              "      <td>5.927</td>\n",
              "      <td>1.357</td>\n",
              "      <td>5.936</td>\n",
              "      <td>9.536</td>\n",
              "      <td>1.820</td>\n",
              "      <td>7.886</td>\n",
              "      <td>8.658</td>\n",
              "      <td>4.401</td>\n",
              "      <td>5.786</td>\n",
              "      <td>1.107</td>\n",
              "      <td>...</td>\n",
              "      <td>2.389</td>\n",
              "      <td>3.796</td>\n",
              "      <td>3.149</td>\n",
              "      <td>5.075</td>\n",
              "      <td>4.251</td>\n",
              "      <td>4.682</td>\n",
              "      <td>0.966</td>\n",
              "      <td>9.572</td>\n",
              "      <td>9.364</td>\n",
              "      <td>5</td>\n",
              "    </tr>\n",
              "    <tr>\n",
              "      <th>3</th>\n",
              "      <td>6.022</td>\n",
              "      <td>6.402</td>\n",
              "      <td>3.772</td>\n",
              "      <td>2.884</td>\n",
              "      <td>8.638</td>\n",
              "      <td>4.623</td>\n",
              "      <td>2.129</td>\n",
              "      <td>1.352</td>\n",
              "      <td>9.475</td>\n",
              "      <td>8.545</td>\n",
              "      <td>...</td>\n",
              "      <td>8.634</td>\n",
              "      <td>8.433</td>\n",
              "      <td>0.997</td>\n",
              "      <td>6.761</td>\n",
              "      <td>4.675</td>\n",
              "      <td>4.749</td>\n",
              "      <td>6.081</td>\n",
              "      <td>6.774</td>\n",
              "      <td>4.162</td>\n",
              "      <td>3</td>\n",
              "    </tr>\n",
              "    <tr>\n",
              "      <th>4</th>\n",
              "      <td>7.816</td>\n",
              "      <td>8.374</td>\n",
              "      <td>0.155</td>\n",
              "      <td>4.262</td>\n",
              "      <td>8.726</td>\n",
              "      <td>2.452</td>\n",
              "      <td>1.046</td>\n",
              "      <td>7.110</td>\n",
              "      <td>5.689</td>\n",
              "      <td>0.559</td>\n",
              "      <td>...</td>\n",
              "      <td>8.851</td>\n",
              "      <td>3.259</td>\n",
              "      <td>3.426</td>\n",
              "      <td>0.555</td>\n",
              "      <td>6.317</td>\n",
              "      <td>2.686</td>\n",
              "      <td>8.380</td>\n",
              "      <td>9.903</td>\n",
              "      <td>3.365</td>\n",
              "      <td>4</td>\n",
              "    </tr>\n",
              "    <tr>\n",
              "      <th>...</th>\n",
              "      <td>...</td>\n",
              "      <td>...</td>\n",
              "      <td>...</td>\n",
              "      <td>...</td>\n",
              "      <td>...</td>\n",
              "      <td>...</td>\n",
              "      <td>...</td>\n",
              "      <td>...</td>\n",
              "      <td>...</td>\n",
              "      <td>...</td>\n",
              "      <td>...</td>\n",
              "      <td>...</td>\n",
              "      <td>...</td>\n",
              "      <td>...</td>\n",
              "      <td>...</td>\n",
              "      <td>...</td>\n",
              "      <td>...</td>\n",
              "      <td>...</td>\n",
              "      <td>...</td>\n",
              "      <td>...</td>\n",
              "      <td>...</td>\n",
              "    </tr>\n",
              "    <tr>\n",
              "      <th>24995</th>\n",
              "      <td>1.254</td>\n",
              "      <td>7.149</td>\n",
              "      <td>2.825</td>\n",
              "      <td>7.918</td>\n",
              "      <td>9.555</td>\n",
              "      <td>0.723</td>\n",
              "      <td>3.481</td>\n",
              "      <td>6.203</td>\n",
              "      <td>4.350</td>\n",
              "      <td>9.535</td>\n",
              "      <td>...</td>\n",
              "      <td>3.927</td>\n",
              "      <td>7.693</td>\n",
              "      <td>8.008</td>\n",
              "      <td>4.772</td>\n",
              "      <td>4.679</td>\n",
              "      <td>8.625</td>\n",
              "      <td>3.468</td>\n",
              "      <td>5.593</td>\n",
              "      <td>1.138</td>\n",
              "      <td>1</td>\n",
              "    </tr>\n",
              "    <tr>\n",
              "      <th>24996</th>\n",
              "      <td>0.839</td>\n",
              "      <td>2.453</td>\n",
              "      <td>3.707</td>\n",
              "      <td>4.084</td>\n",
              "      <td>1.251</td>\n",
              "      <td>6.908</td>\n",
              "      <td>3.673</td>\n",
              "      <td>7.989</td>\n",
              "      <td>7.169</td>\n",
              "      <td>8.058</td>\n",
              "      <td>...</td>\n",
              "      <td>7.228</td>\n",
              "      <td>8.552</td>\n",
              "      <td>5.511</td>\n",
              "      <td>4.374</td>\n",
              "      <td>7.875</td>\n",
              "      <td>2.748</td>\n",
              "      <td>5.159</td>\n",
              "      <td>5.037</td>\n",
              "      <td>6.991</td>\n",
              "      <td>0</td>\n",
              "    </tr>\n",
              "    <tr>\n",
              "      <th>24997</th>\n",
              "      <td>5.660</td>\n",
              "      <td>3.032</td>\n",
              "      <td>2.401</td>\n",
              "      <td>6.968</td>\n",
              "      <td>2.762</td>\n",
              "      <td>3.947</td>\n",
              "      <td>8.953</td>\n",
              "      <td>3.312</td>\n",
              "      <td>9.513</td>\n",
              "      <td>3.842</td>\n",
              "      <td>...</td>\n",
              "      <td>2.864</td>\n",
              "      <td>0.291</td>\n",
              "      <td>8.553</td>\n",
              "      <td>2.014</td>\n",
              "      <td>6.728</td>\n",
              "      <td>6.666</td>\n",
              "      <td>3.479</td>\n",
              "      <td>4.143</td>\n",
              "      <td>6.778</td>\n",
              "      <td>1</td>\n",
              "    </tr>\n",
              "    <tr>\n",
              "      <th>24998</th>\n",
              "      <td>3.230</td>\n",
              "      <td>4.500</td>\n",
              "      <td>6.235</td>\n",
              "      <td>2.701</td>\n",
              "      <td>2.794</td>\n",
              "      <td>8.908</td>\n",
              "      <td>6.133</td>\n",
              "      <td>3.766</td>\n",
              "      <td>8.113</td>\n",
              "      <td>0.095</td>\n",
              "      <td>...</td>\n",
              "      <td>1.340</td>\n",
              "      <td>5.766</td>\n",
              "      <td>7.622</td>\n",
              "      <td>9.077</td>\n",
              "      <td>3.040</td>\n",
              "      <td>6.313</td>\n",
              "      <td>7.400</td>\n",
              "      <td>1.990</td>\n",
              "      <td>2.240</td>\n",
              "      <td>2</td>\n",
              "    </tr>\n",
              "    <tr>\n",
              "      <th>24999</th>\n",
              "      <td>1.668</td>\n",
              "      <td>6.019</td>\n",
              "      <td>4.042</td>\n",
              "      <td>3.841</td>\n",
              "      <td>0.800</td>\n",
              "      <td>8.178</td>\n",
              "      <td>4.550</td>\n",
              "      <td>3.264</td>\n",
              "      <td>5.055</td>\n",
              "      <td>6.935</td>\n",
              "      <td>...</td>\n",
              "      <td>8.675</td>\n",
              "      <td>8.046</td>\n",
              "      <td>5.347</td>\n",
              "      <td>6.489</td>\n",
              "      <td>4.881</td>\n",
              "      <td>3.987</td>\n",
              "      <td>7.492</td>\n",
              "      <td>3.182</td>\n",
              "      <td>8.593</td>\n",
              "      <td>2</td>\n",
              "    </tr>\n",
              "  </tbody>\n",
              "</table>\n",
              "<p>25000 rows × 59 columns</p>\n",
              "</div>"
            ],
            "text/plain": [
              "       BodyLength  Wingspan  Weight  PlumageColorHead  PlumageColorBack  \\\n",
              "0           5.210     9.746   5.815             8.831             1.580   \n",
              "1           2.275     2.496   6.104             1.692             0.856   \n",
              "2           5.927     1.357   5.936             9.536             1.820   \n",
              "3           6.022     6.402   3.772             2.884             8.638   \n",
              "4           7.816     8.374   0.155             4.262             8.726   \n",
              "...           ...       ...     ...               ...               ...   \n",
              "24995       1.254     7.149   2.825             7.918             9.555   \n",
              "24996       0.839     2.453   3.707             4.084             1.251   \n",
              "24997       5.660     3.032   2.401             6.968             2.762   \n",
              "24998       3.230     4.500   6.235             2.701             2.794   \n",
              "24999       1.668     6.019   4.042             3.841             0.800   \n",
              "\n",
              "       PlumageColorBelly  PlumageColorWings  PlumageColorTail  BeakLength  \\\n",
              "0                  2.257              6.399             3.746       7.541   \n",
              "1                  2.056              0.110             1.277       8.491   \n",
              "2                  7.886              8.658             4.401       5.786   \n",
              "3                  4.623              2.129             1.352       9.475   \n",
              "4                  2.452              1.046             7.110       5.689   \n",
              "...                  ...                ...               ...         ...   \n",
              "24995              0.723              3.481             6.203       4.350   \n",
              "24996              6.908              3.673             7.989       7.169   \n",
              "24997              3.947              8.953             3.312       9.513   \n",
              "24998              8.908              6.133             3.766       8.113   \n",
              "24999              8.178              4.550             3.264       5.055   \n",
              "\n",
              "       BeakWidth  ...  SeedDispersalRole  InterspecificInteraction  \\\n",
              "0          4.286  ...              8.122                     7.139   \n",
              "1          5.665  ...              6.354                     7.772   \n",
              "2          1.107  ...              2.389                     3.796   \n",
              "3          8.545  ...              8.634                     8.433   \n",
              "4          0.559  ...              8.851                     3.259   \n",
              "...          ...  ...                ...                       ...   \n",
              "24995      9.535  ...              3.927                     7.693   \n",
              "24996      8.058  ...              7.228                     8.552   \n",
              "24997      3.842  ...              2.864                     0.291   \n",
              "24998      0.095  ...              1.340                     5.766   \n",
              "24999      6.935  ...              8.675                     8.046   \n",
              "\n",
              "       IntraspecificInteraction  LearningAbility  ToolUse  ParentalCareLevel  \\\n",
              "0                         3.319            0.045    4.456              7.167   \n",
              "1                         6.739            2.824    5.807              2.852   \n",
              "2                         3.149            5.075    4.251              4.682   \n",
              "3                         0.997            6.761    4.675              4.749   \n",
              "4                         3.426            0.555    6.317              2.686   \n",
              "...                         ...              ...      ...                ...   \n",
              "24995                     8.008            4.772    4.679              8.625   \n",
              "24996                     5.511            4.374    7.875              2.748   \n",
              "24997                     8.553            2.014    6.728              6.666   \n",
              "24998                     7.622            9.077    3.040              6.313   \n",
              "24999                     5.347            6.489    4.881              3.987   \n",
              "\n",
              "       BathingBehavior  GroomingBehavior  FlightSpeed  SpeciesClass  \n",
              "0                7.826             7.316        4.245             4  \n",
              "1                3.478             6.132        4.471             4  \n",
              "2                0.966             9.572        9.364             5  \n",
              "3                6.081             6.774        4.162             3  \n",
              "4                8.380             9.903        3.365             4  \n",
              "...                ...               ...          ...           ...  \n",
              "24995            3.468             5.593        1.138             1  \n",
              "24996            5.159             5.037        6.991             0  \n",
              "24997            3.479             4.143        6.778             1  \n",
              "24998            7.400             1.990        2.240             2  \n",
              "24999            7.492             3.182        8.593             2  \n",
              "\n",
              "[25000 rows x 59 columns]"
            ]
          },
          "execution_count": 7,
          "metadata": {},
          "output_type": "execute_result"
        }
      ],
      "source": [
        "#dropeamos la columna de url\n",
        "dataset = dataset.drop(['ColorVision','NocturnalVision'], axis=1)\n",
        "\n",
        "dataset"
      ]
    },
    {
      "cell_type": "markdown",
      "metadata": {
        "id": "g48mtdsQ7I99"
      },
      "source": [
        "Mostramos el dataset ya con todos los valores numericos:\n"
      ]
    },
    {
      "cell_type": "markdown",
      "metadata": {
        "id": "riFLJSla7ZDv"
      },
      "source": [
        "### Separamos los datos de nuestra columna Y para cada clase:"
      ]
    },
    {
      "cell_type": "code",
      "execution_count": 8,
      "metadata": {
        "id": "x-bqRMgg7f2v",
        "metadata": {}
      },
      "outputs": [],
      "source": [
        "# hacemos uso del DataFrame llamado 'dataset' que contiene nuestros datos datos\n",
        "# y es la columna que contiene las etiquetas de clase (en este caso, 'round_winner')\n",
        "\n",
        "#creamos una variable temporal que contentra toda la columna de 'round_winner'\n",
        "y_temp = dataset['SpeciesClass']\n",
        "\n",
        "# Para la clase 0\n",
        "\n",
        "#donde y_temp es igual a 0, separamos los datos en train_class_0, test_class_0\n",
        "data_class_0 = dataset[y_temp == 0]\n",
        "train_class_0, test_class_0 = train_test_split(data_class_0, test_size=0.2, random_state=42)\n",
        "\n",
        "# Para la clase 1\n",
        "\n",
        "#donde y_temp es igual a 1, separamos los datos en train_class_1, test_class_1\n",
        "data_class_1 = dataset[y_temp == 1]\n",
        "train_class_1, test_class_1 = train_test_split(data_class_1, test_size=0.2, random_state=42)"
      ]
    },
    {
      "cell_type": "code",
      "execution_count": 9,
      "metadata": {
        "colab": {
          "base_uri": "https://localhost:8080/"
        },
        "id": "HLYhJ-d57i52",
        "metadata": {},
        "outputId": "86e40425-1aab-444b-c2b9-1c3a7412e4d4"
      },
      "outputs": [
        {
          "name": "stdout",
          "output_type": "stream",
          "text": [
            "Para la clase 0 tenemos una cantidad de: 4147 donde el 80% es: 3317 y el 20% es: 830\n",
            "Para la clase 1 tenemos una cantidad de: 4167 donde el 80% es: 3333 y el 20% es: 834\n",
            "La cantidad total de datos es: 25000\n"
          ]
        }
      ],
      "source": [
        "print(f\"Para la clase 0 tenemos una cantidad de: { data_class_0.shape[0]} donde el 80% es: {train_class_0.shape[0]} y el 20% es: {test_class_0.shape[0]}\")\n",
        "print(f\"Para la clase 1 tenemos una cantidad de: { data_class_1.shape[0]} donde el 80% es: {train_class_1.shape[0]} y el 20% es: {test_class_1.shape[0]}\")\n",
        "print(f\"La cantidad total de datos es: {dataset.shape[0]}\")"
      ]
    },
    {
      "cell_type": "markdown",
      "metadata": {
        "id": "ETfj9Tca77zn"
      },
      "source": [
        "### Separacion del 80% de los datos para entrenamiento y 20% para pruebas\n",
        "\n"
      ]
    },
    {
      "cell_type": "code",
      "execution_count": 10,
      "metadata": {
        "id": "dtIH4i2X7_ge",
        "metadata": {}
      },
      "outputs": [],
      "source": [
        "#separando los datos de entrenamiento y pruebas\n",
        "\n",
        "#para los datos de entrenamiento\n",
        "train_dataset = pd.concat([train_class_0, train_class_1]).values\n",
        "test_dataset = pd.concat([test_class_0, test_class_1]).values\n",
        "\n",
        "\n",
        "indices_train = np.random.permutation(len(train_dataset))\n",
        "indices_test = np.random.permutation(len(test_dataset))\n",
        "\n",
        "train_dataset = pd.concat([train_class_0, train_class_1]).values\n",
        "\n",
        "train_dataset = train_dataset[indices_train]\n",
        "train_test = test_dataset[indices_test]\n",
        "\n",
        "m_train = len(train_dataset)\n",
        "m_test = len(test_dataset)"
      ]
    },
    {
      "cell_type": "code",
      "execution_count": 11,
      "metadata": {
        "colab": {
          "base_uri": "https://localhost:8080/"
        },
        "id": "byoZOSD4ENFB",
        "metadata": {},
        "outputId": "45ae0582-fc11-4ebb-9ac4-f2a48385c727"
      },
      "outputs": [
        {
          "name": "stdout",
          "output_type": "stream",
          "text": [
            "6650\n",
            "1664\n",
            "El total de ejemplos es:  8314\n"
          ]
        }
      ],
      "source": [
        "print(m_train)\n",
        "print(m_test)\n",
        "print(\"El total de ejemplos es: \", (m_train + m_test))"
      ]
    },
    {
      "cell_type": "markdown",
      "metadata": {
        "id": "FZ7Ot0ReAapP"
      },
      "source": [
        "#### Convertimos los datos a tensores de Pythorch\n",
        "\n",
        "Este código conviertimos los datos **train_dataset** y **Test_dataset** en tensores de PyTorch."
      ]
    },
    {
      "cell_type": "markdown",
      "metadata": {
        "id": "x00ok4RRmvox"
      },
      "source": [
        "Creamos la clase  indicar a PyTorch cuáles son los datos de entrada (features) y cuáles son las etiquetas (targets), creamnos una clase personalizada que herede de torch.utils.data.Dataset y sobrescribir los métodos **__len__** y **__getitem__.**"
      ]
    },
    {
      "cell_type": "code",
      "execution_count": 12,
      "metadata": {
        "id": "HzQGors0mbqR",
        "metadata": {}
      },
      "outputs": [],
      "source": [
        "class TuConjuntoDatos(Dataset):\n",
        "    def __init__(self, data, targets):\n",
        "        self.data = data\n",
        "        self.targets = targets\n",
        "\n",
        "    def __len__(self):\n",
        "        return len(self.data)\n",
        "\n",
        "    def __getitem__(self, idx):\n",
        "        features = torch.tensor(self.data[idx, :-1], dtype=torch.float32)  # Todas las columnas excepto la última\n",
        "        target = torch.tensor(self.data[idx, -1], dtype=torch.long)  # Última columna (etiqueta)\n",
        "        return features, target\n",
        "\n",
        "    def get_features_shape(self):\n",
        "        return (self.data.shape[1] - 1)"
      ]
    },
    {
      "cell_type": "markdown",
      "metadata": {
        "id": "LHWSriIJt--C"
      },
      "source": [
        "hacemos uso de la clase anterior, indicando cual es nuestra columna \"target\", en este caso la ultima, **-1**:"
      ]
    },
    {
      "cell_type": "code",
      "execution_count": 13,
      "metadata": {
        "id": "MYi8Opv5AA_P",
        "metadata": {}
      },
      "outputs": [],
      "source": [
        "train_dataset = TuConjuntoDatos(train_dataset, -1)  # No se necesitan etiquetas durante el entrenamiento\n",
        "test_dataset = TuConjuntoDatos(test_dataset, -1)"
      ]
    },
    {
      "cell_type": "code",
      "execution_count": 14,
      "metadata": {
        "colab": {
          "base_uri": "https://localhost:8080/"
        },
        "id": "NmpB0l4w8Gju",
        "metadata": {},
        "outputId": "7da19585-6a72-4f90-92cc-2fc31116621c"
      },
      "outputs": [
        {
          "name": "stdout",
          "output_type": "stream",
          "text": [
            "el 80% de datos es:6650 y el 20% es: 1664\n",
            "la totalidad de datos es:  25000\n"
          ]
        }
      ],
      "source": [
        "print(f\"el 80% de datos es:{len(train_dataset)} y el 20% es: {len(test_dataset)}\")\n",
        "print( \"la totalidad de datos es: \", dataset.shape[0])"
      ]
    },
    {
      "cell_type": "markdown",
      "metadata": {
        "id": "V1O6o1vT8PmG"
      },
      "source": [
        "### Creacion de la clase de Red neuronal MLS\n",
        "\n",
        "Aquí creamos nuestra red neuronal simple. Para más detalles aquí estamos subclasificando y\n",
        "Heredando de **nn.Module**."
      ]
    },
    {
      "cell_type": "code",
      "execution_count": 15,
      "metadata": {
        "id": "hA63y9BgDGi-",
        "metadata": {}
      },
      "outputs": [],
      "source": [
        "class RedNeuronalMLS(nn.Module):\n",
        "    def __init__(self, input_size, num_classes):\n",
        "        super(RedNeuronalMLS, self).__init__()\n",
        "        self.fc1 = nn.Linear(input_size, 50)\n",
        "        self.fc2 = nn.Linear(50, num_classes)\n",
        "\n",
        "    def forward(self, x):\n",
        "        x = self.fc1(x)\n",
        "        x = F.sigmoid(x)\n",
        "        x = self.fc2(x)\n",
        "        return x"
      ]
    },
    {
      "cell_type": "markdown",
      "metadata": {
        "id": "G0Xs0aRI9qif"
      },
      "source": [
        "### Definimos la arquitectura del modelo\n",
        "\n",
        "En este apartado definiremos la cantidad de capas que tendra el modelo:\n",
        "\n",
        "- **Capa de entrada:** Es la cantidad de caracteristicas con las que cuenta el dataset.\n",
        "- **Capa de salida:** como este modelo cuenta con dos clases, por lo tanto solo tendra un valor de 2"
      ]
    },
    {
      "cell_type": "code",
      "execution_count": 16,
      "metadata": {
        "colab": {
          "base_uri": "https://localhost:8080/"
        },
        "id": "y_Vhhl1t9ra3",
        "metadata": {},
        "outputId": "61f02b08-f0ec-4c10-c1e4-7ee63be4e212"
      },
      "outputs": [
        {
          "name": "stdout",
          "output_type": "stream",
          "text": [
            "la cantidad de elementos en la capa de entrada es:  58\n",
            "la cantidad de elementos en la capa de salida es:  6\n"
          ]
        }
      ],
      "source": [
        "# Configurando parametros necesario\n",
        "input_layer_size = train_dataset.get_features_shape() # Entrada de 96 caracteristicas, es la cantidad de columnas existente en el dataset\n",
        "num_labels = 6         # como es una clasificacion tiene solo 2 salidas\n",
        "\n",
        "print(\"la cantidad de elementos en la capa de entrada es: \",input_layer_size)\n",
        "print(\"la cantidad de elementos en la capa de salida es: \",num_labels)"
      ]
    },
    {
      "cell_type": "markdown",
      "metadata": {
        "id": "2Xh5O4Zt-JBu"
      },
      "source": [
        "#### Hiperparametros:\n",
        "\n",
        "Hiperparámetros de nuestra red neuronal que dependen del conjunto de datos, y\n",
        "También simplemente experimentando para ver qué funciona bien (tasa de aprendizaje, por ejemplo)."
      ]
    },
    {
      "cell_type": "code",
      "execution_count": 17,
      "metadata": {
        "colab": {
          "base_uri": "https://localhost:8080/"
        },
        "id": "bvAXtGD491Vn",
        "metadata": {},
        "outputId": "0892e653-6f09-421b-ed59-e2c4421796fd"
      },
      "outputs": [
        {
          "name": "stdout",
          "output_type": "stream",
          "text": [
            "la cantidad de elementos en la entrada es:  58\n"
          ]
        }
      ],
      "source": [
        "input_size = input_layer_size\n",
        "num_classes = num_labels\n",
        "learning_rate = 0.001\n",
        "batch_size = 1000\n",
        "num_epochs = 3\n",
        "\n",
        "print(\"la cantidad de elementos en la entrada es: \",input_size)"
      ]
    },
    {
      "cell_type": "markdown",
      "metadata": {
        "id": "KJHfidDX-tBm"
      },
      "source": [
        "#### Verificamos que el GPU este habilitado\n",
        "\n",
        "\n",
        "Este código sirve para configurar el dispositivo en el que se ejecutarán los cálculos de PyTorch. Si una GPU está disponible en el sistema, el código configura el dispositivo para usar la GPU (CUDA), de lo contrario, se configura para utilizar la CPU."
      ]
    },
    {
      "cell_type": "code",
      "execution_count": 19,
      "metadata": {
        "colab": {
          "base_uri": "https://localhost:8080/"
        },
        "id": "COAUlsr8DLfF",
        "metadata": {},
        "outputId": "4d6028ee-f174-40c0-879e-de9780d75408"
      },
      "outputs": [
        {
          "name": "stdout",
          "output_type": "stream",
          "text": [
            "cpu\n"
          ]
        }
      ],
      "source": [
        "# Configuramos el dispositivo cuda para GPU si está disponible\n",
        "device = torch.device(\"cuda\" if torch.cuda.is_available() else \"cpu\")\n",
        "print(device)"
      ]
    },
    {
      "cell_type": "markdown",
      "metadata": {
        "id": "IUGwnkoEGJUp"
      },
      "source": [
        "#### Cargamos conjuntos de datos en lotes:\n",
        "\n",
        "* **dataset:** El conjunto de datos que se va a cargar en lotes. En este caso, * * * train_dataset y test_dataset son los conjuntos de datos de entrenamiento y prueba, respectivamente.\n",
        "* **batch_size:** El tamaño de los lotes de datos. Especifica cuántas muestras se cargarán a la vez durante el entrenamiento o la evaluación.\n",
        "* **shuffle:** Un booleano que indica si se deben mezclar los datos antes de cargarlos en lotes. Esto es útil durante el entrenamiento para evitar que el modelo aprenda patrones basados en el orden de los datos."
      ]
    },
    {
      "cell_type": "code",
      "execution_count": 20,
      "metadata": {
        "colab": {
          "base_uri": "https://localhost:8080/"
        },
        "id": "10BjWiz3DYmW",
        "metadata": {},
        "outputId": "1c159200-3da4-4dd7-d885-36efbf584742"
      },
      "outputs": [
        {
          "name": "stdout",
          "output_type": "stream",
          "text": [
            "6650\n",
            "1664\n",
            "la cantidad de lotes para el dataset de entrenamiento es:  7\n",
            "la cantidad de lotes para el dataset de prueba es:  2\n"
          ]
        }
      ],
      "source": [
        "print(len(train_dataset))\n",
        "print(len(test_dataset))\n",
        "\n",
        "train_loader = DataLoader(dataset=train_dataset, batch_size=batch_size, shuffle=True)\n",
        "test_loader = DataLoader(dataset=test_dataset, batch_size=batch_size, shuffle=True)\n",
        "\n",
        "print(\"la cantidad de lotes para el dataset de entrenamiento es: \",len(train_loader))\n",
        "print(\"la cantidad de lotes para el dataset de prueba es: \",len(test_loader))"
      ]
    },
    {
      "cell_type": "markdown",
      "metadata": {
        "id": "VrExWdEuHPI5"
      },
      "source": [
        "### Modelo de red neuronal\n",
        "\n",
        "Este código crea una instancia de un modelo de red neuronal y lo mueve al dispositivo especificado (ya sea GPU o CPU) para su entrenamiento y evaluación.\n",
        "\n",
        "* **RedNeuronalMLS:** Usamos la clase para crear el modelo.\n",
        "* **input_size:** es el tamaño de entrada del modelo, es decir, el número de características en cada ejemplo de entrada.\n",
        "num_classes es el número de clases en el problema de clasificación, es decir, el número de categorías diferentes a predecir.\n",
        "* **.to(device):** mueve el modelo a la GPU (cuda) si está disponible, de lo contrario, lo deja en la CPU (cpu)."
      ]
    },
    {
      "cell_type": "code",
      "execution_count": 21,
      "metadata": {
        "id": "_MtcDzEqEqeO",
        "metadata": {}
      },
      "outputs": [],
      "source": [
        "# Initialize network\n",
        "model = RedNeuronalMLS(input_size=input_size, num_classes=num_classes).to(device)"
      ]
    },
    {
      "cell_type": "markdown",
      "metadata": {
        "id": "CF0Cd4WZHuyA"
      },
      "source": [
        "Mostramos algunas caracteristicas del modelo:"
      ]
    },
    {
      "cell_type": "code",
      "execution_count": 22,
      "metadata": {
        "colab": {
          "base_uri": "https://localhost:8080/"
        },
        "id": "n4QhA5rv4Td0",
        "metadata": {},
        "outputId": "0cdb1411-09b2-4e5b-9ddf-31874ada4e9a"
      },
      "outputs": [
        {
          "data": {
            "text/plain": [
              "RedNeuronalMLS(\n",
              "  (fc1): Linear(in_features=58, out_features=50, bias=True)\n",
              "  (fc2): Linear(in_features=50, out_features=6, bias=True)\n",
              ")"
            ]
          },
          "execution_count": 22,
          "metadata": {},
          "output_type": "execute_result"
        }
      ],
      "source": [
        "model"
      ]
    },
    {
      "cell_type": "markdown",
      "metadata": {
        "id": "ceRVGjQeH1iI"
      },
      "source": [
        "#### Funcion de perdida o costo para el modelo:\n",
        "\n",
        "como este es un modelo de clasificacion, se procede a crearlo con la funcion de **CrossEntropyLoss()** y el optimizador creando una instancia del **optimizador Adam**."
      ]
    },
    {
      "cell_type": "code",
      "execution_count": 23,
      "metadata": {
        "id": "JOXxAOpEFiCT",
        "metadata": {}
      },
      "outputs": [],
      "source": [
        "# Perdida y optimizador\n",
        "criterion = nn.CrossEntropyLoss()\n",
        "optimizer = optim.Adam(model.parameters(), lr=learning_rate)"
      ]
    },
    {
      "cell_type": "markdown",
      "metadata": {
        "id": "KCK_GZaUIq7K"
      },
      "source": [
        "### Entrenamiento de la Red neuronal\n",
        "\n",
        "Haciendo el uso dos ciclos For, en el primero para el uso del los **\"epochs\"** el cual ira iterando uno por uno dentro del segundo For, el c se recorre el cargador de datos de entrenamiento **(train_loader)** para obtener lotes **(batches)** de datos y sus respectivas etiquetas. **batch_idx **es el índice del lote actual, data contiene las entradas del lote y targets contiene las etiquetas correspondientes."
      ]
    },
    {
      "cell_type": "code",
      "execution_count": 24,
      "metadata": {
        "colab": {
          "base_uri": "https://localhost:8080/"
        },
        "id": "yNVVsm2uXlPl",
        "metadata": {},
        "outputId": "f26fcfba-45f8-4530-ed26-a8a564ad5c84"
      },
      "outputs": [
        {
          "name": "stderr",
          "output_type": "stream",
          "text": [
            " 14%|█▍        | 1/7 [00:00<00:01,  4.99it/s]"
          ]
        },
        {
          "name": "stdout",
          "output_type": "stream",
          "text": [
            "torch.Size([1000, 58])\n"
          ]
        },
        {
          "name": "stderr",
          "output_type": "stream",
          "text": [
            "100%|██████████| 7/7 [00:00<00:00, 25.25it/s]\n"
          ]
        },
        {
          "name": "stdout",
          "output_type": "stream",
          "text": [
            "torch.Size([1000, 58])\n",
            "torch.Size([1000, 58])\n",
            "torch.Size([1000, 58])\n",
            "torch.Size([1000, 58])\n",
            "torch.Size([1000, 58])\n",
            "torch.Size([650, 58])\n"
          ]
        },
        {
          "name": "stderr",
          "output_type": "stream",
          "text": [
            "100%|██████████| 7/7 [00:00<00:00, 76.85it/s]\n"
          ]
        },
        {
          "name": "stdout",
          "output_type": "stream",
          "text": [
            "torch.Size([1000, 58])\n",
            "torch.Size([1000, 58])\n",
            "torch.Size([1000, 58])\n",
            "torch.Size([1000, 58])\n",
            "torch.Size([1000, 58])\n",
            "torch.Size([1000, 58])\n",
            "torch.Size([650, 58])\n"
          ]
        },
        {
          "name": "stderr",
          "output_type": "stream",
          "text": [
            "  0%|          | 0/7 [00:00<?, ?it/s]"
          ]
        },
        {
          "name": "stdout",
          "output_type": "stream",
          "text": [
            "torch.Size([1000, 58])\n",
            "torch.Size([1000, 58])\n",
            "torch.Size([1000, 58])\n",
            "torch.Size([1000, 58])\n",
            "torch.Size([1000, 58])\n",
            "torch.Size([1000, 58])\n",
            "torch.Size([650, 58])\n"
          ]
        },
        {
          "name": "stderr",
          "output_type": "stream",
          "text": [
            "100%|██████████| 7/7 [00:00<00:00, 68.09it/s]\n"
          ]
        }
      ],
      "source": [
        "# Train Network\n",
        "for epoch in range(num_epochs):\n",
        "    for batch_idx, (data, targets) in enumerate(tqdm(train_loader)):\n",
        "\n",
        "        # Obtenemos el CUDA si es posible\n",
        "        data = data.to(device=device)\n",
        "        targets = targets.to(device=device)\n",
        "\n",
        "\n",
        "        # Llegar a la forma correcta\n",
        "        data = data.reshape(data.shape[0], -1)\n",
        "        print(data.shape)\n",
        "        # print(\"-\"*30)\n",
        "\n",
        "        # forward\n",
        "        scores = model(data)\n",
        "        loss = criterion(scores, targets)\n",
        "\n",
        "        # backward\n",
        "        optimizer.zero_grad()\n",
        "        loss.backward()\n",
        "\n",
        "        # gradient descent or adam step\n",
        "        optimizer.step()"
      ]
    },
    {
      "cell_type": "markdown",
      "metadata": {
        "id": "7LA5TrlDuoxy"
      },
      "source": [
        "### validaciones\n",
        "\n",
        "Para hacer las validaciones correspondientes, se **creo check_accuracy()** el cual recibe como parametros nuestros dataset_loader y el modelo, donde nos retornara el procentaje de precision y las predicciones hechas en un vector:"
      ]
    },
    {
      "cell_type": "code",
      "execution_count": 25,
      "metadata": {
        "id": "Zfpwc1XSGbYs",
        "metadata": {}
      },
      "outputs": [],
      "source": [
        "# Check accuracy on training & test to see how good our model\n",
        "def check_accuracy(loader, model):\n",
        "    num_correct = 0\n",
        "    num_samples = 0\n",
        "    model.eval()\n",
        "\n",
        "    predicciones = []\n",
        "    with torch.no_grad():\n",
        "        for x, y in loader:\n",
        "            x = x.to(device=device)\n",
        "            y = y.to(device=device)\n",
        "            x = x.reshape(x.shape[0], -1)\n",
        "\n",
        "            scores = model(x)\n",
        "            _, predictions = scores.max(1)\n",
        "            predicciones.append(predictions)\n",
        "\n",
        "            num_correct += (predictions == y).sum()\n",
        "            num_samples += predictions.size(0)\n",
        "\n",
        "    model.train()\n",
        "    return num_correct/num_samples, predicciones"
      ]
    },
    {
      "cell_type": "markdown",
      "metadata": {
        "id": "k3zsYR7cvVPT"
      },
      "source": [
        "#### Precision con los datos de entrenamiento:"
      ]
    },
    {
      "cell_type": "code",
      "execution_count": 26,
      "metadata": {
        "colab": {
          "base_uri": "https://localhost:8080/"
        },
        "id": "yR97DVD4vZ67",
        "metadata": {},
        "outputId": "41e334e4-63ca-4225-8b92-27d5007a4a8a"
      },
      "outputs": [
        {
          "name": "stdout",
          "output_type": "stream",
          "text": [
            "Precisión en el conjunto de entrenamiento: 49.25 %\n"
          ]
        }
      ],
      "source": [
        "p_train, pred_train  = check_accuracy(train_loader, model)\n",
        "print(f\"Precisión en el conjunto de entrenamiento: {p_train*100:.2f} %\")"
      ]
    },
    {
      "cell_type": "markdown",
      "metadata": {
        "id": "2wqtC82UvjAb"
      },
      "source": [
        "#### Precision con los datos de prueba:"
      ]
    },
    {
      "cell_type": "code",
      "execution_count": 27,
      "metadata": {
        "colab": {
          "base_uri": "https://localhost:8080/"
        },
        "id": "VGn-SvH5vlET",
        "metadata": {},
        "outputId": "c46ec9d6-a07d-410b-e44c-be08d431e339"
      },
      "outputs": [
        {
          "name": "stdout",
          "output_type": "stream",
          "text": [
            "Precisión en el conjunto de prueba: 48.86 %\n"
          ]
        }
      ],
      "source": [
        "p_test, pred_test  = check_accuracy(test_loader, model)\n",
        "print(f\"Precisión en el conjunto de prueba: {p_test*100:.2f} %\")"
      ]
    },
    {
      "cell_type": "markdown",
      "metadata": {
        "id": "UtTSRUPJwUmT"
      },
      "source": [
        "## ¿Concluciones?\n",
        "\n",
        "Una vez hecha las predicciones del modelos, se puede determinar que el modelo reliza las predicciones con una precision del 49.25% con los datos de prueba y con un 48.86% con los datos de entrenamiento, entonces podemos concluir que no es una precision buena."
      ]
    }
  ],
  "metadata": {
    "accelerator": "GPU",
    "colab": {
      "include_colab_link": true,
      "machine_shape": "hm",
      "provenance": [],
      "toc_visible": true
    },
    "kernelspec": {
      "display_name": "Python 3",
      "language": "python",
      "name": "python3"
    },
    "language_info": {
      "codemirror_mode": {
        "name": "ipython",
        "version": 3
      },
      "file_extension": ".py",
      "mimetype": "text/x-python",
      "name": "python",
      "nbconvert_exporter": "python",
      "pygments_lexer": "ipython3",
      "version": "3.11.8"
    }
  },
  "nbformat": 4,
  "nbformat_minor": 0
}
