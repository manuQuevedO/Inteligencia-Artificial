{
  "cells": [
    {
      "cell_type": "markdown",
      "metadata": {
        "id": "xTjmiqnfSxgG"
      },
      "source": [
        "# Clasificación multiclase\n",
        "\n",
        "## Introduction\n",
        "\n",
        "En este ejercicio se implementa la regresion one-vs-all y una red neuronal para reconocimiento de digitos.\n",
        "\n",
        "Antes de empezar la ejecución de las partes de codigo correspondienters a los ejercicios, se requiere importar todas las librerias necesarias."
      ]
    },
    {
      "cell_type": "code",
      "execution_count": null,
      "metadata": {
        "colab": {
          "base_uri": "https://localhost:8080/"
        },
        "id": "clyp4NcQycWP",
        "outputId": "98dc3c3d-0774-49af-899e-033563597300"
      },
      "outputs": [
        {
          "name": "stdout",
          "output_type": "stream",
          "text": [
            "Drive already mounted at /content/drive; to attempt to forcibly remount, call drive.mount(\"/content/drive\", force_remount=True).\n"
          ]
        }
      ],
      "source": [
        "from google.colab import drive\n",
        "drive.mount('/content/drive')"
      ]
    },
    {
      "cell_type": "code",
      "execution_count": 1,
      "metadata": {
        "id": "20Q29kX8SxgJ"
      },
      "outputs": [],
      "source": [
        "# utilizado para la manipulación de directorios y rutas\n",
        "import os\n",
        "\n",
        "import pandas as pd\n",
        "\n",
        "# Cálculo científico y vectorial para python\n",
        "import numpy as np\n",
        "\n",
        "# Libreria para graficos\n",
        "from matplotlib import pyplot\n",
        "\n",
        "# Modulo de optimizacion en scipy\n",
        "from scipy import optimize\n",
        "\n",
        "# le dice a matplotlib que incruste gráficos en el cuaderno\n",
        "%matplotlib inline"
      ]
    },
    {
      "cell_type": "markdown",
      "metadata": {
        "id": "rPiGCmq7SxgK"
      },
      "source": [
        "## 1 Clasificación multiclase\n",
        "\n",
        "\n",
        "\n",
        "La primera parte del ejercicio, extenderá la implementación anterior de la regresión logística y la aplicará a la clasificación de uno contra todos (one vs all).\n",
        "\n",
        "### 1.1 Dataset\n",
        "\n",
        "\n",
        "\n"
      ]
    },
    {
      "cell_type": "code",
      "execution_count": 2,
      "metadata": {
        "id": "hhRjL2ptSxgK"
      },
      "outputs": [],
      "source": [
        "# La entrada es de 19 elemento contando con x0\n",
        "input_layer_size  = 19\n",
        "# El numero de etiquetas de mi dataset es de 5\n",
        "num_labels = 5\n",
        "\n",
        "#  datos de entrenamiento almacenados en los arreglos X, y\n",
        "data = pd.read_csv('C:/Users/Manuel/Desktop/Maching learning/Nueva carpeta/Reuters Newswire Topics Dataset.csv', delimiter=',')\n",
        "\n",
        "# Dividir los datos en características (X) y objetivo (y)\n",
        "X = data.iloc[:, :-1]  # Todas las columnas excepto la última\n",
        "y = data.iloc[:, -1]   # La última columna\n",
        "\n",
        "# Número de ejemplos de entrenamiento\n",
        "m = y.size"
      ]
    },
    {
      "cell_type": "code",
      "execution_count": 5,
      "metadata": {
        "colab": {
          "base_uri": "https://localhost:8080/"
        },
        "id": "aw2yVc8ESxgL",
        "outputId": "32a9727a-926f-4798-e6dd-4e0c34348827"
      },
      "outputs": [
        {
          "data": {
            "text/html": [
              "<div>\n",
              "<style scoped>\n",
              "    .dataframe tbody tr th:only-of-type {\n",
              "        vertical-align: middle;\n",
              "    }\n",
              "\n",
              "    .dataframe tbody tr th {\n",
              "        vertical-align: top;\n",
              "    }\n",
              "\n",
              "    .dataframe thead th {\n",
              "        text-align: right;\n",
              "    }\n",
              "</style>\n",
              "<table border=\"1\" class=\"dataframe\">\n",
              "  <thead>\n",
              "    <tr style=\"text-align: right;\">\n",
              "      <th></th>\n",
              "      <th>Feature_1</th>\n",
              "      <th>Feature_2</th>\n",
              "      <th>Feature_3</th>\n",
              "      <th>Feature_4</th>\n",
              "      <th>Feature_5</th>\n",
              "      <th>Feature_6</th>\n",
              "      <th>Feature_7</th>\n",
              "      <th>Feature_8</th>\n",
              "      <th>Feature_9</th>\n",
              "      <th>Feature_10</th>\n",
              "      <th>Feature_11</th>\n",
              "      <th>Feature_12</th>\n",
              "      <th>Feature_13</th>\n",
              "      <th>Feature_14</th>\n",
              "      <th>Feature_15</th>\n",
              "      <th>Feature_16</th>\n",
              "      <th>Feature_17</th>\n",
              "      <th>Feature_18</th>\n",
              "      <th>Feature_19</th>\n",
              "      <th>Class</th>\n",
              "    </tr>\n",
              "  </thead>\n",
              "  <tbody>\n",
              "    <tr>\n",
              "      <th>0</th>\n",
              "      <td>0.989</td>\n",
              "      <td>0.933</td>\n",
              "      <td>7.066</td>\n",
              "      <td>7.578</td>\n",
              "      <td>6.594</td>\n",
              "      <td>2.849</td>\n",
              "      <td>4.931</td>\n",
              "      <td>72.072</td>\n",
              "      <td>24.617</td>\n",
              "      <td>142.936</td>\n",
              "      <td>74.081</td>\n",
              "      <td>105.701</td>\n",
              "      <td>54.521</td>\n",
              "      <td>32.617</td>\n",
              "      <td>121.537</td>\n",
              "      <td>25.751</td>\n",
              "      <td>144.337</td>\n",
              "      <td>69.595</td>\n",
              "      <td>41.101</td>\n",
              "      <td>1.0</td>\n",
              "    </tr>\n",
              "    <tr>\n",
              "      <th>1</th>\n",
              "      <td>0.997</td>\n",
              "      <td>0.478</td>\n",
              "      <td>7.662</td>\n",
              "      <td>8.635</td>\n",
              "      <td>3.066</td>\n",
              "      <td>4.509</td>\n",
              "      <td>1.436</td>\n",
              "      <td>85.700</td>\n",
              "      <td>39.412</td>\n",
              "      <td>37.528</td>\n",
              "      <td>117.419</td>\n",
              "      <td>87.170</td>\n",
              "      <td>108.446</td>\n",
              "      <td>56.649</td>\n",
              "      <td>71.172</td>\n",
              "      <td>113.226</td>\n",
              "      <td>101.245</td>\n",
              "      <td>60.219</td>\n",
              "      <td>118.244</td>\n",
              "      <td>0.0</td>\n",
              "    </tr>\n",
              "    <tr>\n",
              "      <th>2</th>\n",
              "      <td>0.347</td>\n",
              "      <td>0.631</td>\n",
              "      <td>5.491</td>\n",
              "      <td>0.754</td>\n",
              "      <td>0.020</td>\n",
              "      <td>7.220</td>\n",
              "      <td>8.970</td>\n",
              "      <td>40.162</td>\n",
              "      <td>20.028</td>\n",
              "      <td>141.028</td>\n",
              "      <td>63.459</td>\n",
              "      <td>63.072</td>\n",
              "      <td>100.683</td>\n",
              "      <td>67.985</td>\n",
              "      <td>146.706</td>\n",
              "      <td>126.889</td>\n",
              "      <td>30.212</td>\n",
              "      <td>77.758</td>\n",
              "      <td>97.303</td>\n",
              "      <td>4.0</td>\n",
              "    </tr>\n",
              "    <tr>\n",
              "      <th>3</th>\n",
              "      <td>0.191</td>\n",
              "      <td>0.138</td>\n",
              "      <td>8.315</td>\n",
              "      <td>8.823</td>\n",
              "      <td>1.375</td>\n",
              "      <td>1.894</td>\n",
              "      <td>6.507</td>\n",
              "      <td>95.557</td>\n",
              "      <td>114.442</td>\n",
              "      <td>21.842</td>\n",
              "      <td>100.862</td>\n",
              "      <td>112.891</td>\n",
              "      <td>28.602</td>\n",
              "      <td>94.809</td>\n",
              "      <td>93.514</td>\n",
              "      <td>106.238</td>\n",
              "      <td>85.042</td>\n",
              "      <td>135.045</td>\n",
              "      <td>46.371</td>\n",
              "      <td>2.0</td>\n",
              "    </tr>\n",
              "    <tr>\n",
              "      <th>4</th>\n",
              "      <td>0.822</td>\n",
              "      <td>0.587</td>\n",
              "      <td>9.642</td>\n",
              "      <td>3.389</td>\n",
              "      <td>7.036</td>\n",
              "      <td>0.379</td>\n",
              "      <td>8.303</td>\n",
              "      <td>37.211</td>\n",
              "      <td>92.917</td>\n",
              "      <td>90.042</td>\n",
              "      <td>48.364</td>\n",
              "      <td>104.354</td>\n",
              "      <td>56.836</td>\n",
              "      <td>49.982</td>\n",
              "      <td>143.241</td>\n",
              "      <td>22.332</td>\n",
              "      <td>115.821</td>\n",
              "      <td>116.677</td>\n",
              "      <td>65.306</td>\n",
              "      <td>0.0</td>\n",
              "    </tr>\n",
              "  </tbody>\n",
              "</table>\n",
              "</div>"
            ],
            "text/plain": [
              "   Feature_1  Feature_2  Feature_3  Feature_4  Feature_5  Feature_6  \\\n",
              "0      0.989      0.933      7.066      7.578      6.594      2.849   \n",
              "1      0.997      0.478      7.662      8.635      3.066      4.509   \n",
              "2      0.347      0.631      5.491      0.754      0.020      7.220   \n",
              "3      0.191      0.138      8.315      8.823      1.375      1.894   \n",
              "4      0.822      0.587      9.642      3.389      7.036      0.379   \n",
              "\n",
              "   Feature_7  Feature_8  Feature_9  Feature_10  Feature_11  Feature_12  \\\n",
              "0      4.931     72.072     24.617     142.936      74.081     105.701   \n",
              "1      1.436     85.700     39.412      37.528     117.419      87.170   \n",
              "2      8.970     40.162     20.028     141.028      63.459      63.072   \n",
              "3      6.507     95.557    114.442      21.842     100.862     112.891   \n",
              "4      8.303     37.211     92.917      90.042      48.364     104.354   \n",
              "\n",
              "   Feature_13  Feature_14  Feature_15  Feature_16  Feature_17  Feature_18  \\\n",
              "0      54.521      32.617     121.537      25.751     144.337      69.595   \n",
              "1     108.446      56.649      71.172     113.226     101.245      60.219   \n",
              "2     100.683      67.985     146.706     126.889      30.212      77.758   \n",
              "3      28.602      94.809      93.514     106.238      85.042     135.045   \n",
              "4      56.836      49.982     143.241      22.332     115.821     116.677   \n",
              "\n",
              "   Feature_19  Class  \n",
              "0      41.101    1.0  \n",
              "1     118.244    0.0  \n",
              "2      97.303    4.0  \n",
              "3      46.371    2.0  \n",
              "4      65.306    0.0  "
            ]
          },
          "execution_count": 5,
          "metadata": {},
          "output_type": "execute_result"
        }
      ],
      "source": [
        "#print(X[0,:])\n",
        "#print(y)\n",
        "data.head()\n"
      ]
    },
    {
      "cell_type": "code",
      "execution_count": 6,
      "metadata": {},
      "outputs": [
        {
          "name": "stdout",
          "output_type": "stream",
          "text": [
            "cantidad de datos:\n",
            "(34000, 20)\n"
          ]
        }
      ],
      "source": [
        "print('cantidad de datos:')\n",
        "print(data.shape)"
      ]
    },
    {
      "cell_type": "code",
      "execution_count": 7,
      "metadata": {
        "id": "HWF5C5Jt8wNb"
      },
      "outputs": [],
      "source": [
        "def  featureNormalize(X):\n",
        "    X_norm = X.copy()\n",
        "    mu = np.zeros(X.shape[1])\n",
        "    sigma = np.zeros(X.shape[1])\n",
        "\n",
        "    mu = np.mean(X, axis = 0)\n",
        "    sigma = np.std(X, axis = 0)\n",
        "    X_norm = (X - mu) / sigma\n",
        "\n",
        "    return X_norm, mu, sigma"
      ]
    },
    {
      "cell_type": "code",
      "execution_count": 8,
      "metadata": {
        "id": "f4W6d-ya1ABV"
      },
      "outputs": [],
      "source": [
        "# llama featureNormalize con los datos cargados\n",
        "X_norm, mu, sigma = featureNormalize(X)"
      ]
    },
    {
      "cell_type": "code",
      "execution_count": 9,
      "metadata": {
        "id": "r9e6MRrW1G22"
      },
      "outputs": [],
      "source": [
        "# Configurar la matriz adecuadamente, y agregar una columna de unos que corresponde al termino de intercepción.\n",
        "m, n = X.shape\n",
        "# Agraga el termino de intercepción a A\n",
        "X = np.concatenate([np.ones((m, 1)), X_norm], axis=1)\n",
        "#X = X_norm\n",
        "# X = np.concatenate([np.ones((m, 1)), X], axis=1)"
      ]
    },
    {
      "cell_type": "markdown",
      "metadata": {
        "id": "GxjagbCdSxgL"
      },
      "source": [
        "### 1.2 Visualización de los datos\n"
      ]
    },
    {
      "cell_type": "code",
      "execution_count": 10,
      "metadata": {
        "id": "B5marXeKSxgM"
      },
      "outputs": [],
      "source": [
        "# Selecciona aleatoriamente 100 puntos de datos para mostrar\n",
        "rand_indices = np.random.choice(m, 100, replace=False)\n",
        "sel = X[rand_indices, :]\n",
        "\n",
        "# displayData(sel)"
      ]
    },
    {
      "cell_type": "markdown",
      "metadata": {
        "collapsed": true,
        "id": "M2h-xWvTSxgM"
      },
      "source": [
        "### 1.3 Vectorización de regresión logística\n",
        "\n",
        "Se utilizará múltiples modelos de regresión logística uno contra todos para construir un clasificador de clases múltiples. Dado que hay 10 clases, deberá entrenar 10 clasificadores de regresión logística separados. Para que esta capacitación sea eficiente, es importante asegurarse de que el código esté bien vectorizado.\n",
        "\n",
        "En esta sección, se implementará una versión vectorizada de regresión logística que no emplea ningún bucle \"for\".\n",
        "\n",
        "Para probar la regresión logística vectorizada, se usara datos personalizados como se definen a continuación."
      ]
    },
    {
      "cell_type": "markdown",
      "metadata": {
        "id": "BQ-PeDkKSxgN"
      },
      "source": [
        "<a id=\"section1\"></a>\n",
        "#### 1.3.1 Vectorización de la funcion de costo\n",
        "\n"
      ]
    },
    {
      "cell_type": "code",
      "execution_count": 11,
      "metadata": {
        "id": "0sB9Kyi8SxgN"
      },
      "outputs": [],
      "source": [
        "def sigmoid(z):\n",
        "    \"\"\"\n",
        "    Calcula la sigmoide de z.\n",
        "    \"\"\"\n",
        "    return 1.0 / (1.0 + np.exp(-z))"
      ]
    },
    {
      "cell_type": "code",
      "execution_count": 12,
      "metadata": {
        "id": "w5S0OOswSxgN"
      },
      "outputs": [],
      "source": [
        "cost_history = []\n",
        "\n",
        "def lrCostFunction(theta, X, y, lambda_):\n",
        "    \"\"\"\n",
        "    Calcula el costo de usar theta como parámetro para la regresión logística regularizada y\n",
        "    el gradiente del costo w.r.t. a los parámetros.\n",
        "\n",
        "    Parametros\n",
        "    ----------\n",
        "    theta : array_like\n",
        "        Parametro theta de la regresion logistica. Vector de la forma(shape) (n, ). n es el numero de caracteristicas\n",
        "        incluida la intercepcion\n",
        "\n",
        "    X : array_like\n",
        "        Dataset con la forma(shape) (m x n). m es el numero de ejemplos, y n es el numero de\n",
        "        caracteristicas (incluida la intercepcion).\n",
        "\n",
        "    y : array_like\n",
        "        El conjunto de etiquetas. Un vector con la forma (shape) (m, ). m es el numero de ejemplos\n",
        "\n",
        "    lambda_ : float\n",
        "        Parametro de regularización.\n",
        "\n",
        "    Devuelve\n",
        "    -------\n",
        "    J : float\n",
        "        El valor calculado para la funcion de costo regularizada.\n",
        "\n",
        "    grad : array_like\n",
        "        Un vector de la forma (shape) (n, ) que es el gradiente de la\n",
        "        función de costo con respecto a theta, en los valores actuales de theta..\n",
        "    \"\"\"\n",
        "#     alpha = 0.003\n",
        "#     theta = theta.copy()\n",
        "    # Inicializa algunos valores utiles\n",
        "    m = y.size\n",
        "\n",
        "    # convierte las etiquetas a valores enteros si son boleanos\n",
        "    if y.dtype == bool:\n",
        "        y = y.astype(int)\n",
        "\n",
        "    J = 0\n",
        "    grad = np.zeros(theta.shape)\n",
        "\n",
        "    h = sigmoid(X.dot(theta.T))\n",
        "\n",
        "    temp = theta\n",
        "    temp[0] = 0\n",
        "\n",
        "#     J = (1 / m) * np.sum(-y.dot(np.log(h)) - (1 - y).dot(np.log(1 - h)))\n",
        "    J = (1 / m) * np.sum(-y.dot(np.log(h)) - (1 - y).dot(np.log(1 - h))) + (lambda_ / (2 * m)) * np.sum(np.square(temp))\n",
        "\n",
        "    grad = (1 / m) * (h - y).dot(X)\n",
        "#     theta = theta - (alpha / m) * (h - y).dot(X)\n",
        "    grad = grad + (lambda_ / m) * temp\n",
        "\n",
        "     # Añade el costo calculado a la lista de historial\n",
        "    cost_history.append(J)\n",
        "\n",
        "    return J, grad\n",
        "#    return J, theta"
      ]
    },
    {
      "cell_type": "markdown",
      "metadata": {
        "id": "eJyLWCXrSxgN"
      },
      "source": [
        "#### 1.3.3 Vectorización regularizada de la regresión logística\n",
        "\n",
        "\n",
        "</div>\n"
      ]
    },
    {
      "cell_type": "markdown",
      "metadata": {
        "id": "Rlk-Z2p-SxgN"
      },
      "source": [
        "<a id=\"section2\"></a>\n",
        "### 1.4 Clasificacion One-vs-all\n",
        "\n",
        "<a id=\"oneVsAll\"></a>"
      ]
    },
    {
      "cell_type": "code",
      "execution_count": 13,
      "metadata": {
        "id": "V0rOw5qhSxgN"
      },
      "outputs": [],
      "source": [
        "def oneVsAll(X, y, num_labels, lambda_):\n",
        "    \n",
        "    # algunas variables utiles\n",
        "    m, n = X.shape\n",
        "\n",
        "    all_theta = np.zeros((num_labels, n + 1))\n",
        "\n",
        "    # Agrega unos a la matriz X\n",
        "    X = np.concatenate([np.ones((m, 1)), X], axis=1)\n",
        "\n",
        "    for c in np.arange(num_labels):\n",
        "        initial_theta = np.zeros(n + 1)\n",
        "        options = {'maxiter': 50}\n",
        "        res = optimize.minimize(lrCostFunction,\n",
        "                                initial_theta,\n",
        "                                (X, (y == c), lambda_),\n",
        "                                jac=True,\n",
        "                                method='CG',\n",
        "                                options=options)\n",
        "\n",
        "        all_theta[c] = res.x\n",
        "\n",
        "    return all_theta"
      ]
    },
    {
      "cell_type": "code",
      "execution_count": 27,
      "metadata": {
        "colab": {
          "base_uri": "https://localhost:8080/"
        },
        "id": "w6JbsLLMSxgO",
        "outputId": "12c7d2e9-6465-48ab-db98-050023dd7b42"
      },
      "outputs": [
        {
          "name": "stdout",
          "output_type": "stream",
          "text": [
            "(5, 21)\n"
          ]
        }
      ],
      "source": [
        "lambda_ = 0.3\n",
        "all_theta = oneVsAll(X, y, num_labels, lambda_)\n",
        "print(all_theta.shape)"
      ]
    },
    {
      "cell_type": "code",
      "execution_count": 28,
      "metadata": {
        "colab": {
          "base_uri": "https://localhost:8080/"
        },
        "id": "V1EfKaiEgtcw",
        "outputId": "28c15cf9-d355-4edc-d1e2-76ee84ef38ff"
      },
      "outputs": [
        {
          "name": "stdout",
          "output_type": "stream",
          "text": [
            "[[-6.99713643e-01 -6.99572700e-01  6.32042762e-03 -6.12848928e-03\n",
            "  -1.88821058e-02  1.00291106e-02  8.60487954e-03  3.88647938e-03\n",
            "   2.68013040e-02 -1.72402977e-02 -3.20975855e-02 -2.72536515e-02\n",
            "  -7.85801474e-04 -2.94595416e-02 -5.60819308e-03  1.44079728e-02\n",
            "  -1.08526065e-02 -1.93775137e-02  3.54210711e-03  1.21094994e-02\n",
            "  -6.21841027e-03]\n",
            " [-6.92733102e-01 -6.92595177e-01 -1.16333007e-02  1.09441084e-02\n",
            "  -4.22372802e-03 -2.93426299e-04 -1.24138106e-02 -4.44555149e-03\n",
            "  -5.77310772e-03 -1.00072388e-02  6.33206735e-03  1.05682950e-02\n",
            "   2.03594051e-03  1.65725860e-03  1.82805982e-02 -5.73975002e-03\n",
            "  -1.14859771e-02  1.22473433e-02  2.89235795e-03 -2.33794137e-03\n",
            "   1.91012042e-02]\n",
            " [-6.93409296e-01 -6.93270481e-01  1.24502211e-02 -1.36416153e-02\n",
            "   2.64769485e-03 -2.24308108e-03 -3.00455565e-04 -2.00828074e-03\n",
            "  -3.59741732e-02 -1.54713877e-02  1.09494342e-02  7.64903532e-03\n",
            "  -1.53196728e-02  6.30596021e-03  1.00257346e-02  3.25613977e-03\n",
            "   1.43007159e-02  4.01347300e-03  2.00290418e-02 -7.52829883e-03\n",
            "   7.84150832e-03]\n",
            " [-6.96593820e-01 -6.96453625e-01 -8.58055286e-03 -2.17891791e-02\n",
            "  -3.94765587e-03  7.92379902e-03 -7.70132145e-03  1.04081245e-02\n",
            "  -4.49452696e-03  4.09433134e-02 -1.36401802e-04  8.62327865e-03\n",
            "   1.43830567e-03  6.28764585e-03 -2.05968075e-04 -2.66789997e-02\n",
            "  -2.14386817e-02 -6.45004779e-03 -8.67032849e-03  4.28156418e-03\n",
            "  -1.70154225e-02]\n",
            " [-6.86524285e-01 -6.86386843e-01  1.43895672e-03  3.02217126e-02\n",
            "   2.40254689e-02 -1.51794505e-02  1.17067843e-02 -7.70779396e-03\n",
            "   1.94505531e-02  1.83731755e-03  1.45378089e-02  1.91487487e-04\n",
            "   1.24959011e-02  1.48831924e-02 -2.23855670e-02  1.46461503e-02\n",
            "   2.90689168e-02  9.26387401e-03 -1.76530289e-02 -6.31201494e-03\n",
            "  -3.82707688e-03]]\n"
          ]
        }
      ],
      "source": [
        "print(all_theta)"
      ]
    },
    {
      "cell_type": "code",
      "execution_count": 29,
      "metadata": {},
      "outputs": [
        {
          "data": {
            "image/png": "[encoded data removed]",
            "text/plain": [
              "<Figure size 640x480 with 1 Axes>"
            ]
          },
          "metadata": {},
          "output_type": "display_data"
        }
      ],
      "source": [
        "from matplotlib import pyplot as plt\n",
        "\n",
        "plt.plot(cost_history)\n",
        "plt.xlabel('Iteraciones')\n",
        "plt.ylabel('Costo')\n",
        "plt.title('Curva de Costo durante el entrenamiento')\n",
        "plt.show()\n"
      ]
    },
    {
      "cell_type": "markdown",
      "metadata": {
        "id": "aQLqvbc_SxgO"
      },
      "source": [
        "<a id=\"section3\"></a>\n",
        "#### 1.4.1 Prediccion One-vs-all\n",
        "\n",
        "Después de entrenar el clasificador de one-vs-all, se puede usarlo para predecir el dígito contenido en una imagen determinada. Para cada entrada, debe calcular la \"probabilidad\" de que pertenezca a cada clase utilizando los clasificadores de regresión logística entrenados. La función de predicción one-vs-all seleccionará la clase para la cual el clasificador de regresión logística correspondiente genera la probabilidad más alta y devolverá la etiqueta de clase (0, 1, ..., K-1) como la predicción para el ejemplo de entrada."
      ]
    },
    {
      "cell_type": "code",
      "execution_count": 30,
      "metadata": {
        "id": "PjFoFe1bSxgO"
      },
      "outputs": [],
      "source": [
        "def predictOneVsAll(all_theta, X):\n",
        "    \"\"\"\n",
        "    Devuelve un vector de predicciones para cada ejemplo en la matriz X.\n",
        "    Tenga en cuenta que X contiene los ejemplos en filas.\n",
        "    all_theta es una matriz donde la i-ésima fila es un vector theta de regresión logística entrenada para la i-ésima clase.\n",
        "    Debe establecer p en un vector de valores de 0..K-1 (por ejemplo, p = [0, 2, 0, 1]\n",
        "    predice clases 0, 2, 0, 1 para 4 ejemplos).\n",
        "\n",
        "    Parametros\n",
        "    ----------\n",
        "    all_theta : array_like\n",
        "        The trained parameters for logistic regression for each class.\n",
        "        This is a matrix of shape (K x n+1) where K is number of classes\n",
        "        and n is number of features without the bias.\n",
        "\n",
        "    X : array_like\n",
        "        Data points to predict their labels. This is a matrix of shape\n",
        "        (m x n) where m is number of data points to predict, and n is number\n",
        "        of features without the bias term. Note we add the bias term for X in\n",
        "        this function.\n",
        "\n",
        "    Devuelve\n",
        "    -------\n",
        "    p : array_like\n",
        "        The predictions for each data point in X. This is a vector of shape (m, ).\n",
        "    \"\"\"\n",
        "\n",
        "    m = X.shape[0];\n",
        "    num_labels = all_theta.shape[0]\n",
        "\n",
        "    p = np.zeros(m)\n",
        "\n",
        "    # Add ones to the X data matrix\n",
        "    X = np.concatenate([np.ones((m, 1)), X], axis=1)\n",
        "    p = np.argmax(sigmoid(X.dot(all_theta.T)), axis = 1)\n",
        "\n",
        "    return p"
      ]
    },
    {
      "cell_type": "markdown",
      "metadata": {
        "id": "zo3aawvsSxgO"
      },
      "source": [
        "Una vez que haya terminado, se llama a la función `predictOneVsAll` usando el valor aprendido de $\\theta$. Debería apreciarse que la precisión del conjunto de entrenamiento es de aproximadamente 95,1% (es decir, clasifica correctamente el 95,1% de los ejemplos del conjunto de entrenamiento)."
      ]
    },
    {
      "cell_type": "code",
      "execution_count": 31,
      "metadata": {
        "colab": {
          "base_uri": "https://localhost:8080/"
        },
        "id": "mE7v5cglSxgO",
        "outputId": "d564e268-7adf-4de9-dd3a-e1a85e996ec0"
      },
      "outputs": [
        {
          "name": "stdout",
          "output_type": "stream",
          "text": [
            "Precisión del conjunto de entrenamiento: 21.49%\n",
            "Precisión del conjunto de prueba: 20.56%\n"
          ]
        }
      ],
      "source": [
        "\n",
        "#  Dividir los datos en conjuntos de entrenamiento y prueba\n",
        "from sklearn.model_selection import train_test_split\n",
        "\n",
        "X_train, X_test, y_train, y_test = train_test_split(X, y, test_size=0.20, random_state=42)\n",
        "\n",
        "#  Entrenar el clasificador\n",
        "all_theta = oneVsAll(X_train, y_train, num_labels, lambda_)\n",
        "\n",
        "# Precisión en el conjunto de entrenamiento\n",
        "pred_train = predictOneVsAll(all_theta, X_train)\n",
        "print('Precisión del conjunto de entrenamiento: {:.2f}%'.format(np.mean(pred_train == y_train) * 100))\n",
        "\n",
        "# Precisión en el conjunto de prueba\n",
        "pred_test = predictOneVsAll(all_theta, X_test)\n",
        "print('Precisión del conjunto de prueba: {:.2f}%'.format(np.mean(pred_test == y_test) * 100))\n",
        "\n",
        "\n"
      ]
    },
    {
      "cell_type": "code",
      "execution_count": null,
      "metadata": {
        "id": "7WaT8luNSxgO"
      },
      "outputs": [],
      "source": []
    }
  ],
  "metadata": {
    "colab": {
      "provenance": []
    },
    "kernelspec": {
      "display_name": "Python 3",
      "language": "python",
      "name": "python3"
    },
    "language_info": {
      "codemirror_mode": {
        "name": "ipython",
        "version": 3
      },
      "file_extension": ".py",
      "mimetype": "text/x-python",
      "name": "python",
      "nbconvert_exporter": "python",
      "pygments_lexer": "ipython3",
      "version": "3.11.8"
    }
  },
  "nbformat": 4,
  "nbformat_minor": 0
}
